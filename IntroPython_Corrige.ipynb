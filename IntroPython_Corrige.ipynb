{
 "cells": [
  {
   "cell_type": "markdown",
   "metadata": {},
   "source": [
    "**Execution conditionnelle**"
   ]
  },
  {
   "cell_type": "code",
   "execution_count": 2,
   "metadata": {},
   "outputs": [
    {
     "name": "stdout",
     "output_type": "stream",
     "text": [
      "OK! 1\n",
      "OK! 2\n",
      "OK! 3\n",
      "OK! 4\n",
      "OK! 5\n"
     ]
    }
   ],
   "source": [
    "# TODO: initialiser les variables a, b, c, d, array pour que les expressions conditionnelles suivantes soient toutes executees. \n",
    "\n",
    "# EXEMPLE DE CORRECTION\n",
    "# a est un nombre float (pas un entier)\n",
    "a = 5.2\n",
    "# b plus grand que a\n",
    "b = 7\n",
    "# array contient b\n",
    "array = [a, b, \"je suis dans l'array\"]\n",
    "# c plus grand que a mais plus petit que b\n",
    "c = 6\n",
    "# d est une chaine de caractere\n",
    "d = \"Bonjour\"\n",
    "\n",
    "if a < b:\n",
    "    print(\"OK! 1\")\n",
    "\n",
    "if b in array:\n",
    "    print(\"OK! 2\")\n",
    "    \n",
    "if (a < c) and not(b < c):\n",
    "    print(\"OK! 3\")\n",
    "    \n",
    "if type(a) is float:\n",
    "    print(\"OK! 4\")\n",
    "    \n",
    "if type(d) is str:\n",
    "    print(\"OK! 5\")"
   ]
  },
  {
   "cell_type": "markdown",
   "metadata": {},
   "source": [
    "**Arrays** "
   ]
  },
  {
   "cell_type": "code",
   "execution_count": 3,
   "metadata": {},
   "outputs": [
    {
     "name": "stdout",
     "output_type": "stream",
     "text": [
      "J'aime les koalas\n",
      "J'aime les lapins\n",
      "J'aime les giraffes\n",
      "J'aime les tortues\n",
      "J'aime les gnous\n",
      "['koalas', 'lapins', 'giraffes', 'tortues', 'gnous']\n",
      "['gnous', 'tortues', 'giraffes', 'lapins', 'koalas']\n"
     ]
    }
   ],
   "source": [
    "# TODO: Ajouter un animal en position 0 et un autre en derniere position.\n",
    "# TODO: Retirer \"tomates\" de la liste. \n",
    "# TODO: Creer une boucle qui imprime \"J'aime les\" + animal pour tous les animaux de la liste\n",
    "# TODO: Profiter de cette boucle pour remplir le array animaux_reverse avec les elements de animaux, mais en ordre inverse\n",
    "\n",
    "\n",
    "\n",
    "animaux = [\"lapins\", \"giraffes\", \"tortues\", \"tomates\"]\n",
    "animaux_reverse = []\n",
    "\n",
    "# EXEMPLE DE CORRECTION\n",
    "animaux.insert(0, \"koalas\")\n",
    "animaux.append(\"gnous\")\n",
    "\n",
    "animaux.remove(\"tomates\")\n",
    "\n",
    "for animal in animaux:\n",
    "    print(\"J'aime les \" + animal)\n",
    "    animaux_reverse.insert(0, animal)\n",
    "# boucle \n",
    "\n",
    "print(animaux)\n",
    "print(animaux_reverse)"
   ]
  },
  {
   "cell_type": "code",
   "execution_count": 4,
   "metadata": {},
   "outputs": [
    {
     "name": "stdout",
     "output_type": "stream",
     "text": [
      "1\n",
      "2\n",
      "3\n",
      "4\n",
      "5\n",
      "6\n",
      "7\n",
      "8\n",
      "9\n"
     ]
    }
   ],
   "source": [
    "# TODO: Imprimer les chiffres lignes par lignes\n",
    "# Utiliser la fonction range() \n",
    "\n",
    "table1 = [[1,2,3], [4,5,6], [7,8,9]]\n",
    "nb_lignes = len(table1)\n",
    "nb_colonnes = len(table1[0])\n",
    "\n",
    "# EXEMPLE DE CORRECTION\n",
    "for i in range(nb_lignes):\n",
    "    for j in range(nb_colonnes):\n",
    "        print(table1[i][j])"
   ]
  },
  {
   "cell_type": "code",
   "execution_count": 7,
   "metadata": {},
   "outputs": [
    {
     "name": "stdout",
     "output_type": "stream",
     "text": [
      "1\n",
      "2\n",
      "3\n",
      "4\n",
      "5\n",
      "6\n",
      "7\n",
      "8\n",
      "9\n",
      "10\n",
      "11\n",
      "12\n"
     ]
    }
   ],
   "source": [
    "# TODO: Imprimer les chiffres colonnes par colonnes \n",
    "\n",
    "table2 = [[1,4,7,10], [2,5,8,11], [3,6,9,12]]\n",
    "\n",
    "# EXEMPLE DE CORRECTION\n",
    "nb_lignes = len(table2)\n",
    "nb_colonnes = len(table2[0])\n",
    "\n",
    "for i in range(nb_colonnes):\n",
    "    for j in range(nb_lignes):\n",
    "        print(table2[j][i])"
   ]
  },
  {
   "cell_type": "markdown",
   "metadata": {},
   "source": [
    "**Dictionnaires**"
   ]
  },
  {
   "cell_type": "code",
   "execution_count": 19,
   "metadata": {},
   "outputs": [
    {
     "name": "stdout",
     "output_type": "stream",
     "text": [
      "age:10\n",
      "vaccine:True\n",
      "nom:Jules\n"
     ]
    }
   ],
   "source": [
    "# TODO: Remplir le dictionnaire avec les entrees suivantes: age (entier), vaccine (booleen: True or False), nom (string)\n",
    "\n",
    "doggo = {}\n",
    "\n",
    "# TODO: Si le chien est vaccine, imprimer ses informations a l'ecran sous la forme \"Cle: valeur\"\n",
    "# Sinon, imprimer \"Nom_du_chien n'est pas vaccine\".\n",
    "\n",
    "# EXEMPLE DE CORRECTION\n",
    "\n",
    "doggo[\"age\"] = 10\n",
    "doggo[\"vaccine\"] = True\n",
    "doggo[\"nom\"] = \"Jules\"\n",
    "\n",
    "if doggo[\"vaccine\"]:\n",
    "    for key in doggo:\n",
    "        print(key + \": \" + str(doggo[key]))\n",
    "else:\n",
    "    print(doggo[\"nom\"] + \" n'est pas vaccine.\")\n",
    "    "
   ]
  },
  {
   "cell_type": "markdown",
   "metadata": {},
   "source": [
    "**Iteration**"
   ]
  },
  {
   "cell_type": "code",
   "execution_count": 28,
   "metadata": {},
   "outputs": [
    {
     "name": "stdout",
     "output_type": "stream",
     "text": [
      "Avant le loop!\n",
      "Dans le loop!\n",
      "0\n",
      "Dans le loop!\n",
      "1\n",
      "Dans le loop!\n",
      "2\n",
      "Dans le loop!\n",
      "3\n",
      "Dans le loop!\n",
      "4\n",
      "Dans le loop!\n",
      "5\n",
      "Dans le loop!\n",
      "6\n",
      "Dans le loop!\n",
      "7\n",
      "Dans le loop!\n",
      "8\n",
      "Dans le loop!\n",
      "9\n",
      "Dans le loop!\n",
      "10\n",
      "Dans le loop!\n",
      "11\n",
      "Dans le loop!\n",
      "12\n",
      "Dans le loop!\n",
      "13\n",
      "Dans le loop!\n",
      "14\n",
      "Dans le loop!\n",
      "15\n",
      "Dans le loop!\n",
      "16\n",
      "Dans le loop!\n",
      "17\n",
      "Dans le loop!\n",
      "18\n",
      "Dans le loop!\n",
      "19\n",
      "Dans le loop!\n",
      "20\n",
      "Dans le loop!\n",
      "21\n",
      "Dans le loop!\n",
      "22\n",
      "Dans le loop!\n",
      "23\n",
      "Dans le loop!\n",
      "24\n",
      "Dans le loop!\n",
      "25\n",
      "Dans le loop!\n",
      "26\n",
      "Dans le loop!\n",
      "27\n",
      "Sorti du loop!\n"
     ]
    }
   ],
   "source": [
    "# TODO: Utiliser un loop while True: pour compter de 0 jusqu'a un nombre specifie d'avance.\n",
    "# Ce nombre est contenu dans la variable 'limite'\n",
    "# A chaque repetition, imprimer a l'ecran le nombre ou vous etes rendus. \n",
    "# Remplacer \"condition\" par la condition qui mettra fin a la boucle au bon moment \n",
    "\n",
    "print(\"Avant le loop!\")\n",
    "\n",
    "limite = 27\n",
    "i = 0\n",
    "\n",
    "while True:\n",
    "    if i > limite:\n",
    "        break \n",
    "    else:\n",
    "        print(\"Dans le loop!\")\n",
    "        print(i)\n",
    "        i += 1\n",
    "\n",
    "print(\"Sorti du loop!\")"
   ]
  },
  {
   "cell_type": "code",
   "execution_count": 27,
   "metadata": {},
   "outputs": [
    {
     "name": "stdout",
     "output_type": "stream",
     "text": [
      "Avant le loop\n",
      "Dans le loop\n",
      "0\n",
      "Dans le loop\n",
      "1\n",
      "Dans le loop\n",
      "2\n",
      "Dans le loop\n",
      "3\n",
      "Dans le loop\n",
      "4\n",
      "Dans le loop\n",
      "5\n",
      "Dans le loop\n",
      "6\n",
      "Dans le loop\n",
      "7\n",
      "Dans le loop\n",
      "8\n",
      "Dans le loop\n",
      "9\n",
      "Dans le loop\n",
      "10\n",
      "Dans le loop\n",
      "11\n",
      "Dans le loop\n",
      "12\n",
      "Dans le loop\n",
      "13\n",
      "Dans le loop\n",
      "14\n",
      "Dans le loop\n",
      "15\n",
      "Sorti du loop!\n"
     ]
    }
   ],
   "source": [
    "# TODO: trouver la maniere equivalente de le faire sans break condition\n",
    "\n",
    "# EXEMPLE DE CORRECTION \n",
    "\n",
    "limite = 15\n",
    "i = 0\n",
    "\n",
    "print(\"Avant le loop\")\n",
    "\n",
    "while i <= limite:\n",
    "    print(\"Dans le loop\")\n",
    "    print(i)\n",
    "    i += 1\n",
    "    \n",
    "print(\"Sorti du loop!\")\n"
   ]
  },
  {
   "cell_type": "markdown",
   "metadata": {},
   "source": [
    "**Fonctions**"
   ]
  },
  {
   "cell_type": "code",
   "execution_count": 32,
   "metadata": {},
   "outputs": [
    {
     "name": "stdout",
     "output_type": "stream",
     "text": [
      "9477\n",
      "-4.74\n"
     ]
    }
   ],
   "source": [
    "# TODO: Creer une fonction sum(x,y) qui prend deux nombres en argument et retourne la somme\n",
    "# La tester avec quelques differentes entrees \n",
    "\n",
    "# EXEMPLE DE CORRECTON\n",
    "\n",
    "def sum(x, y):\n",
    "    return x + y \n",
    "\n",
    "print(sum(567, 8910))\n",
    "print(sum(5.5, -10.24))"
   ]
  },
  {
   "cell_type": "code",
   "execution_count": 30,
   "metadata": {},
   "outputs": [
    {
     "name": "stdout",
     "output_type": "stream",
     "text": [
      "True\n",
      "False\n"
     ]
    }
   ],
   "source": [
    "# TODO: Creer une fonction qui prend un entier en entree et retourne True s'il est pair\n",
    "# La tester avec quelques differentes entrees \n",
    "\n",
    "# EXEMPLE DE CORRECTION\n",
    "\n",
    "def even(x):\n",
    "    # Si la division entiere de x par 2 ne cree pas de reste, alors x est pair. Sinon il est impair. \n",
    "    if x%2 == 0:\n",
    "        return True\n",
    "    else:\n",
    "        return False\n",
    "\n",
    "print(even(2))\n",
    "print(even(3))"
   ]
  },
  {
   "cell_type": "markdown",
   "metadata": {},
   "source": [
    "**Classes et objets** "
   ]
  },
  {
   "cell_type": "code",
   "execution_count": 4,
   "metadata": {},
   "outputs": [
    {
     "name": "stdout",
     "output_type": "stream",
     "text": [
      "VROOM! VROOM!\n",
      "civic\n",
      "1986\n",
      "50000\n",
      "Demarre\n",
      "False\n",
      "8014.0\n"
     ]
    }
   ],
   "source": [
    "# Ajouter une methode \"start\" a la classe voiture, qui change l'etat pour \"demarre\" et imprime \"Vroom! Vroom!\" a l'ecran.\n",
    "# Ajouter une methode \"stats\" a la classe, qui imprime les variables a l'ecran\n",
    "# Ajouter une methode \"prix\" qui prend l'annee et le kilometrage en argument et retourne un chiffre positif. La formule n'a pas d'importance. \n",
    "# Ajouter une fonction \"older\" qui prend une annee en argument et retourne True si la voiture est plus vieille et False sinon. \n",
    "# Creer un objet voiture et tester les fonctions \n",
    "\n",
    "# EXEMPLE DE CORRECTION \n",
    "\n",
    "class voiture():\n",
    "    def __init__(self, model, year, km, state):\n",
    "        self.model = model\n",
    "        self.year = year\n",
    "        self.km = km\n",
    "        self.state = state \n",
    "        \n",
    "    # LEs \n",
    "    def start(self):\n",
    "        self.state = \"Demarre\"\n",
    "        print(\"VROOM! VROOM!\")\n",
    "    \n",
    "    def stats(self):\n",
    "        print(self.model)\n",
    "        print(self.year)\n",
    "        print(self.km)\n",
    "        print(self.state)\n",
    "    \n",
    "    def prix(self):\n",
    "        prix = 15000 - self.year -0.1*self.km\n",
    "        return prix\n",
    "    \n",
    "    def older(self, date):\n",
    "        return self.year < date\n",
    "    \n",
    "honda = voiture(\"civic\", 1986, 50000, \"stationne\")\n",
    "honda.start()\n",
    "honda.stats()\n",
    "print(honda.older(1975))\n",
    "print(honda.prix())"
   ]
  },
  {
   "cell_type": "code",
   "execution_count": null,
   "metadata": {},
   "outputs": [],
   "source": []
  }
 ],
 "metadata": {
  "kernelspec": {
   "display_name": "Python 3",
   "language": "python",
   "name": "python3"
  },
  "language_info": {
   "codemirror_mode": {
    "name": "ipython",
    "version": 3
   },
   "file_extension": ".py",
   "mimetype": "text/x-python",
   "name": "python",
   "nbconvert_exporter": "python",
   "pygments_lexer": "ipython3",
   "version": "3.6.9"
  }
 },
 "nbformat": 4,
 "nbformat_minor": 4
}
