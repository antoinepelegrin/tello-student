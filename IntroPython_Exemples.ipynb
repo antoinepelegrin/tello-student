{
 "cells": [
  {
   "cell_type": "markdown",
   "metadata": {},
   "source": [
    "**VARIABLES**"
   ]
  },
  {
   "cell_type": "markdown",
   "metadata": {},
   "source": [
    "**Initialisation**"
   ]
  },
  {
   "cell_type": "code",
   "execution_count": 1,
   "metadata": {},
   "outputs": [],
   "source": [
    "# Initialisation de quelques variables \n",
    "a = 5\n",
    "b = 5.0\n",
    "c = \"Bonjour\"\n",
    "d = True"
   ]
  },
  {
   "cell_type": "markdown",
   "metadata": {},
   "source": [
    "**Valeurs et types**"
   ]
  },
  {
   "cell_type": "code",
   "execution_count": 2,
   "metadata": {},
   "outputs": [
    {
     "name": "stdout",
     "output_type": "stream",
     "text": [
      "5\n"
     ]
    },
    {
     "data": {
      "text/plain": [
       "int"
      ]
     },
     "execution_count": 2,
     "metadata": {},
     "output_type": "execute_result"
    }
   ],
   "source": [
    "# Affichage de la valeur et du type \n",
    "print(a)\n",
    "type(a)"
   ]
  },
  {
   "cell_type": "code",
   "execution_count": 3,
   "metadata": {},
   "outputs": [
    {
     "name": "stdout",
     "output_type": "stream",
     "text": [
      "5.0\n"
     ]
    },
    {
     "data": {
      "text/plain": [
       "float"
      ]
     },
     "execution_count": 3,
     "metadata": {},
     "output_type": "execute_result"
    }
   ],
   "source": [
    "print(b)\n",
    "type(b)"
   ]
  },
  {
   "cell_type": "code",
   "execution_count": 4,
   "metadata": {},
   "outputs": [
    {
     "name": "stdout",
     "output_type": "stream",
     "text": [
      "Bonjour\n"
     ]
    },
    {
     "data": {
      "text/plain": [
       "str"
      ]
     },
     "execution_count": 4,
     "metadata": {},
     "output_type": "execute_result"
    }
   ],
   "source": [
    "print(c)\n",
    "type(c)"
   ]
  },
  {
   "cell_type": "code",
   "execution_count": 5,
   "metadata": {},
   "outputs": [
    {
     "name": "stdout",
     "output_type": "stream",
     "text": [
      "True\n"
     ]
    },
    {
     "data": {
      "text/plain": [
       "bool"
      ]
     },
     "execution_count": 5,
     "metadata": {},
     "output_type": "execute_result"
    }
   ],
   "source": [
    "print(d)\n",
    "type(d)"
   ]
  },
  {
   "cell_type": "markdown",
   "metadata": {},
   "source": [
    "**ARRAYS/LISTS**"
   ]
  },
  {
   "cell_type": "markdown",
   "metadata": {},
   "source": [
    "**Initialisation**"
   ]
  },
  {
   "cell_type": "code",
   "execution_count": 6,
   "metadata": {},
   "outputs": [],
   "source": [
    "# Initialisation d'une liste de voiture \n",
    "cars = [\"Ford\", \"Honda\", \"BMW\"]"
   ]
  },
  {
   "cell_type": "code",
   "execution_count": 7,
   "metadata": {},
   "outputs": [
    {
     "name": "stdout",
     "output_type": "stream",
     "text": [
      "['Ford', 'Honda', 'BMW']\n"
     ]
    },
    {
     "data": {
      "text/plain": [
       "3"
      ]
     },
     "execution_count": 7,
     "metadata": {},
     "output_type": "execute_result"
    }
   ],
   "source": [
    "# Affichage du nombre d'elements grace a la fonction len()\n",
    "print(cars)\n",
    "len(cars)"
   ]
  },
  {
   "cell_type": "markdown",
   "metadata": {},
   "source": [
    "**Operations**"
   ]
  },
  {
   "cell_type": "code",
   "execution_count": 8,
   "metadata": {},
   "outputs": [
    {
     "name": "stdout",
     "output_type": "stream",
     "text": [
      "Ford\n",
      "BMW\n"
     ]
    }
   ],
   "source": [
    "# Acces a certains elements de la liste \n",
    "print(cars[0])\n",
    "print(cars[2])"
   ]
  },
  {
   "cell_type": "code",
   "execution_count": 9,
   "metadata": {},
   "outputs": [],
   "source": [
    "# Ajout d'un element en fin de liste grace a la fonction append()\n",
    "cars.append(\"Renault\")"
   ]
  },
  {
   "cell_type": "code",
   "execution_count": 10,
   "metadata": {},
   "outputs": [
    {
     "name": "stdout",
     "output_type": "stream",
     "text": [
      "['Ford', 'Honda', 'BMW', 'Renault']\n"
     ]
    }
   ],
   "source": [
    "print(cars)"
   ]
  },
  {
   "cell_type": "code",
   "execution_count": 11,
   "metadata": {},
   "outputs": [],
   "source": [
    "# Insertion d'un element en 3e position \n",
    "cars.insert(2, \"Ferrari\")"
   ]
  },
  {
   "cell_type": "code",
   "execution_count": 12,
   "metadata": {},
   "outputs": [
    {
     "name": "stdout",
     "output_type": "stream",
     "text": [
      "['Ford', 'Honda', 'Ferrari', 'BMW', 'Renault']\n"
     ]
    }
   ],
   "source": [
    "print(cars)"
   ]
  },
  {
   "cell_type": "code",
   "execution_count": 13,
   "metadata": {},
   "outputs": [
    {
     "data": {
      "text/plain": [
       "'Honda'"
      ]
     },
     "execution_count": 13,
     "metadata": {},
     "output_type": "execute_result"
    }
   ],
   "source": [
    "# Retrait de l'element en 2e position\n",
    "cars.pop(1)"
   ]
  },
  {
   "cell_type": "code",
   "execution_count": 14,
   "metadata": {},
   "outputs": [
    {
     "name": "stdout",
     "output_type": "stream",
     "text": [
      "['Ford', 'Ferrari', 'BMW', 'Renault']\n"
     ]
    }
   ],
   "source": [
    "print(cars)"
   ]
  },
  {
   "cell_type": "code",
   "execution_count": 15,
   "metadata": {},
   "outputs": [],
   "source": [
    "# Retrait de l'element \"BMW\"\n",
    "cars.remove(\"BMW\")"
   ]
  },
  {
   "cell_type": "code",
   "execution_count": 16,
   "metadata": {},
   "outputs": [
    {
     "name": "stdout",
     "output_type": "stream",
     "text": [
      "['Ford', 'Ferrari', 'Renault']\n"
     ]
    }
   ],
   "source": [
    "print(cars)"
   ]
  },
  {
   "cell_type": "markdown",
   "metadata": {},
   "source": [
    "**Multiple dimensions**"
   ]
  },
  {
   "cell_type": "code",
   "execution_count": 17,
   "metadata": {},
   "outputs": [],
   "source": [
    "# Arrays emboites\n",
    "tableau = [[1,2,3],[4,5,6]]"
   ]
  },
  {
   "cell_type": "code",
   "execution_count": 18,
   "metadata": {},
   "outputs": [
    {
     "name": "stdout",
     "output_type": "stream",
     "text": [
      "[[1, 2, 3], [4, 5, 6]]\n"
     ]
    }
   ],
   "source": [
    "print(tableau)"
   ]
  },
  {
   "cell_type": "code",
   "execution_count": 19,
   "metadata": {},
   "outputs": [
    {
     "name": "stdout",
     "output_type": "stream",
     "text": [
      "[1, 2, 3]\n"
     ]
    }
   ],
   "source": [
    "print(tableau[0])"
   ]
  },
  {
   "cell_type": "code",
   "execution_count": 20,
   "metadata": {},
   "outputs": [
    {
     "name": "stdout",
     "output_type": "stream",
     "text": [
      "2\n"
     ]
    }
   ],
   "source": [
    "print(tableau[0][1])"
   ]
  },
  {
   "cell_type": "code",
   "execution_count": 21,
   "metadata": {},
   "outputs": [
    {
     "name": "stdout",
     "output_type": "stream",
     "text": [
      "4\n"
     ]
    }
   ],
   "source": [
    "print(tableau[1][0])"
   ]
  },
  {
   "cell_type": "markdown",
   "metadata": {},
   "source": [
    "**DICTIONNAIRES**"
   ]
  },
  {
   "cell_type": "markdown",
   "metadata": {},
   "source": [
    "**Initialisation**"
   ]
  },
  {
   "cell_type": "code",
   "execution_count": 22,
   "metadata": {},
   "outputs": [],
   "source": [
    "# Dictionnaire vide qu'on remplit element par element\n",
    "tacos = {}\n",
    "tacos[\"nom\"] = \"Tacos\"\n",
    "tacos[\"sans_gluten\"] = True \n",
    "tacos[\"from\"] = \"Mexique\"\n",
    "tacos[\"prix\"] = \"$\""
   ]
  },
  {
   "cell_type": "code",
   "execution_count": 23,
   "metadata": {},
   "outputs": [],
   "source": [
    "# Dictionnaire qu'on initialise d'un coup \n",
    "soupe_oignon = {\"nom\" : \"Soupe a l'oignon\", \"sans_gluten\" : False, \"from\" : \"France\", \"prix\": \"$$\"}"
   ]
  },
  {
   "cell_type": "markdown",
   "metadata": {},
   "source": [
    "**Elements**"
   ]
  },
  {
   "cell_type": "code",
   "execution_count": 24,
   "metadata": {},
   "outputs": [
    {
     "name": "stdout",
     "output_type": "stream",
     "text": [
      "{'nom': 'Tacos', 'sans_gluten': True, 'from': 'Mexique', 'prix': '$'}\n",
      "True\n",
      "France\n"
     ]
    }
   ],
   "source": [
    "# Acces a certains elements \n",
    "print(tacos)\n",
    "print(tacos[\"sans_gluten\"])\n",
    "print(soupe_oignon[\"from\"])"
   ]
  },
  {
   "cell_type": "markdown",
   "metadata": {},
   "source": [
    "**Liste de dictionnaires**"
   ]
  },
  {
   "cell_type": "code",
   "execution_count": 25,
   "metadata": {},
   "outputs": [],
   "source": [
    "# Liste remplie avec les dictionnaires precedents \n",
    "plats = [tacos, soupe_oignon]"
   ]
  },
  {
   "cell_type": "code",
   "execution_count": 26,
   "metadata": {},
   "outputs": [
    {
     "name": "stdout",
     "output_type": "stream",
     "text": [
      "[{'nom': 'Tacos', 'sans_gluten': True, 'from': 'Mexique', 'prix': '$'}, {'nom': \"Soupe a l'oignon\", 'sans_gluten': False, 'from': 'France', 'prix': '$$'}]\n"
     ]
    }
   ],
   "source": [
    "print(plats)"
   ]
  },
  {
   "cell_type": "markdown",
   "metadata": {},
   "source": [
    "**EXECUTION CONDITIONNELLE**"
   ]
  },
  {
   "cell_type": "markdown",
   "metadata": {},
   "source": [
    "**Expressions logiques**"
   ]
  },
  {
   "cell_type": "code",
   "execution_count": 27,
   "metadata": {},
   "outputs": [
    {
     "data": {
      "text/plain": [
       "False"
      ]
     },
     "execution_count": 27,
     "metadata": {},
     "output_type": "execute_result"
    }
   ],
   "source": [
    "# Evaluation de l'egalite\n",
    "1 == 2"
   ]
  },
  {
   "cell_type": "code",
   "execution_count": 28,
   "metadata": {},
   "outputs": [
    {
     "data": {
      "text/plain": [
       "True"
      ]
     },
     "execution_count": 28,
     "metadata": {},
     "output_type": "execute_result"
    }
   ],
   "source": [
    "# Evaluation de l'inegalite \n",
    "1 < 2"
   ]
  },
  {
   "cell_type": "code",
   "execution_count": 29,
   "metadata": {},
   "outputs": [
    {
     "data": {
      "text/plain": [
       "True"
      ]
     },
     "execution_count": 29,
     "metadata": {},
     "output_type": "execute_result"
    }
   ],
   "source": [
    "# Evaluation du type\n",
    "type(1) is int"
   ]
  },
  {
   "cell_type": "code",
   "execution_count": 30,
   "metadata": {},
   "outputs": [
    {
     "data": {
      "text/plain": [
       "True"
      ]
     },
     "execution_count": 30,
     "metadata": {},
     "output_type": "execute_result"
    }
   ],
   "source": [
    "# Evaluaton de la presence dans une liste\n",
    "instruments = [\"guitar\", \"drums\", \"bass\"]\n",
    "\"guitar\" in instruments "
   ]
  },
  {
   "cell_type": "code",
   "execution_count": 31,
   "metadata": {},
   "outputs": [
    {
     "data": {
      "text/plain": [
       "False"
      ]
     },
     "execution_count": 31,
     "metadata": {},
     "output_type": "execute_result"
    }
   ],
   "source": [
    "\"trombone\" in instruments"
   ]
  },
  {
   "cell_type": "code",
   "execution_count": 32,
   "metadata": {},
   "outputs": [
    {
     "name": "stdout",
     "output_type": "stream",
     "text": [
      "True\n"
     ]
    }
   ],
   "source": [
    "# L'evaluation d'une valeur logique peut etre assignee a une variabe \n",
    "a = (1 != 2)\n",
    "print(a)"
   ]
  },
  {
   "cell_type": "code",
   "execution_count": 33,
   "metadata": {},
   "outputs": [
    {
     "name": "stdout",
     "output_type": "stream",
     "text": [
      "False\n"
     ]
    }
   ],
   "source": [
    "# La negation s'exprime avec \"not\"\n",
    "b = not a \n",
    "print(b)"
   ]
  },
  {
   "cell_type": "code",
   "execution_count": 34,
   "metadata": {},
   "outputs": [
    {
     "data": {
      "text/plain": [
       "False"
      ]
     },
     "execution_count": 34,
     "metadata": {},
     "output_type": "execute_result"
    }
   ],
   "source": [
    "# On peut combiner des expressions logiques \n",
    "# Ici on evalue b ET a avec \"and\"; retourne True seulement si a et b valent True\n",
    "b and a"
   ]
  },
  {
   "cell_type": "code",
   "execution_count": 35,
   "metadata": {},
   "outputs": [
    {
     "data": {
      "text/plain": [
       "True"
      ]
     },
     "execution_count": 35,
     "metadata": {},
     "output_type": "execute_result"
    }
   ],
   "source": [
    "# Ici on evalue b OU a avec \"or\" ; retourne False seulement si a et b valent False\n",
    "b or a"
   ]
  },
  {
   "cell_type": "markdown",
   "metadata": {},
   "source": [
    "**Execution conditionnelle**"
   ]
  },
  {
   "cell_type": "code",
   "execution_count": 36,
   "metadata": {},
   "outputs": [
    {
     "name": "stdout",
     "output_type": "stream",
     "text": [
      "a plus petit que b\n"
     ]
    }
   ],
   "source": [
    "a = 1\n",
    "b = 2\n",
    "if a < b:\n",
    "    print(\"a plus petit que b\")\n",
    "elif a > b:\n",
    "    print(\"a plus grand que a\")\n",
    "else:\n",
    "    print(\"a egal a b\")"
   ]
  },
  {
   "cell_type": "code",
   "execution_count": 37,
   "metadata": {},
   "outputs": [
    {
     "name": "stdout",
     "output_type": "stream",
     "text": [
      "a egal a b\n"
     ]
    }
   ],
   "source": [
    "a = 1\n",
    "b = a\n",
    "if a < b:\n",
    "    print(\"a plus petit que b\")\n",
    "elif a > b:\n",
    "    print(\"a plus grand que a\")\n",
    "else:\n",
    "    print(\"a egal a b\")"
   ]
  },
  {
   "cell_type": "markdown",
   "metadata": {},
   "source": [
    "**ITERATIONS**"
   ]
  },
  {
   "cell_type": "markdown",
   "metadata": {},
   "source": [
    "**FOR LOOPS**"
   ]
  },
  {
   "cell_type": "markdown",
   "metadata": {},
   "source": [
    "**Sur un array**"
   ]
  },
  {
   "cell_type": "code",
   "execution_count": 38,
   "metadata": {},
   "outputs": [
    {
     "name": "stdout",
     "output_type": "stream",
     "text": [
      "J'aime bien les pommes\n",
      "J'aime bien les oranges\n",
      "J'aime bien les mangues\n"
     ]
    }
   ],
   "source": [
    "# Execute pour chaque element du array\n",
    "# La valeur de l'element est mise dans la variable fruit pour la duree d'une iteration. \n",
    "# Remarquez qu'on peut joindre deux strings distincts avec le + \n",
    "fruits = [\"pommes\", \"oranges\", \"mangues\"]\n",
    "for fruit in fruits:\n",
    "    print(\"J'aime bien les \" + fruit)"
   ]
  },
  {
   "cell_type": "markdown",
   "metadata": {},
   "source": [
    "**Sur un dictionnaire**"
   ]
  },
  {
   "cell_type": "code",
   "execution_count": 39,
   "metadata": {},
   "outputs": [
    {
     "name": "stdout",
     "output_type": "stream",
     "text": [
      "nom: Soupe a l'oignon\n",
      "sans_gluten: False\n",
      "from: France\n",
      "prix: $$\n"
     ]
    }
   ],
   "source": [
    "# On itere sur les cles du dictionnaire. On accede ensuite aux valeurs associes de la maniere usuelle. \n",
    "# Remarquez qu'il faut convertir le booleen False en string avec la fonction str() pour le joindre a un autre string avec +. \n",
    "soupe_oignon = {\"nom\" : \"Soupe a l'oignon\", \"sans_gluten\" : False, \"from\" : \"France\", \"prix\": \"$$\"}\n",
    "for key in soupe_oignon:\n",
    "    print(key + \": \" + str(soupe_oignon[key]))"
   ]
  },
  {
   "cell_type": "markdown",
   "metadata": {},
   "source": [
    "**Sur un range**"
   ]
  },
  {
   "cell_type": "code",
   "execution_count": 40,
   "metadata": {},
   "outputs": [
    {
     "name": "stdout",
     "output_type": "stream",
     "text": [
      "Dans la boucle!\n",
      "La somme partielle vaut: 0\n",
      "Dans la boucle!\n",
      "La somme partielle vaut: 0\n",
      "Dans la boucle!\n",
      "La somme partielle vaut: 1\n",
      "Dans la boucle!\n",
      "La somme partielle vaut: 3\n",
      "Dans la boucle!\n",
      "La somme partielle vaut: 6\n",
      "Dans la boucle!\n",
      "La somme partielle vaut: 10\n",
      "Sorti de la boucle!\n",
      "La somme totale vaut 15\n"
     ]
    }
   ],
   "source": [
    "# La fonction range() retourne les nombres entiers dans l'intervalle specifie. \n",
    "# Par defaut, l'intervalle part a 0\n",
    "# somme += i est equivalent a somme = somme + i, i.e nous ajoutons i a valeur de somme. \n",
    "somme = 0\n",
    "for i in range(6):\n",
    "    print(\"Dans la boucle!\")\n",
    "    print(\"La somme partielle vaut: \" + str(somme))\n",
    "    somme += i\n",
    "\n",
    "print(\"Sorti de la boucle!\")\n",
    "print(\"La somme totale vaut \" + str(somme))"
   ]
  },
  {
   "cell_type": "code",
   "execution_count": 41,
   "metadata": {},
   "outputs": [
    {
     "name": "stdout",
     "output_type": "stream",
     "text": [
      "257\n",
      "258\n",
      "259\n",
      "260\n",
      "261\n",
      "262\n",
      "263\n"
     ]
    }
   ],
   "source": [
    "# On n'est pas force de partir le range a 0\n",
    "for i in range(257, 264):\n",
    "    print(i)"
   ]
  },
  {
   "cell_type": "markdown",
   "metadata": {},
   "source": [
    "**Loops emboites**"
   ]
  },
  {
   "cell_type": "code",
   "execution_count": 42,
   "metadata": {},
   "outputs": [
    {
     "name": "stdout",
     "output_type": "stream",
     "text": [
      "ligne 0\n",
      "colonne 0\n",
      "colonne 1\n",
      "colonne 2\n",
      "colonne 3\n",
      "ligne 1\n",
      "colonne 0\n",
      "colonne 1\n",
      "colonne 2\n",
      "colonne 3\n",
      "ligne 2\n",
      "colonne 0\n",
      "colonne 1\n",
      "colonne 2\n",
      "colonne 3\n"
     ]
    }
   ],
   "source": [
    "# On peut emboiter un nombre arbitraire de boucles for \n",
    "ligne = [0,1,2]\n",
    "colonne = [0,1,2,3]\n",
    "\n",
    "for i in ligne:\n",
    "    print(\"ligne \" + str(i))\n",
    "    for j in colonne:\n",
    "        print(\"colonne \" + str(j))"
   ]
  },
  {
   "cell_type": "markdown",
   "metadata": {},
   "source": [
    "**WHILE LOOPS**"
   ]
  },
  {
   "cell_type": "code",
   "execution_count": 43,
   "metadata": {},
   "outputs": [
    {
     "name": "stdout",
     "output_type": "stream",
     "text": [
      "Dans la boucle!\n",
      "La somme partielle vaut: 0\n",
      "Dans la boucle!\n",
      "La somme partielle vaut: 0\n",
      "Dans la boucle!\n",
      "La somme partielle vaut: 1\n",
      "Dans la boucle!\n",
      "La somme partielle vaut: 3\n",
      "Dans la boucle!\n",
      "La somme partielle vaut: 6\n",
      "Dans la boucle!\n",
      "La somme partielle vaut: 10\n",
      "Dans la boucle!\n",
      "La somme partielle vaut: 15\n",
      "Dans la boucle!\n",
      "La somme partielle vaut: 21\n",
      "Dans la boucle!\n",
      "La somme partielle vaut: 28\n",
      "Dans la boucle!\n",
      "La somme partielle vaut: 36\n",
      "Dans la boucle!\n",
      "La somme partielle vaut: 45\n",
      "Dans la boucle!\n",
      "La somme partielle vaut: 55\n",
      "Dans la boucle!\n",
      "La somme partielle vaut: 66\n",
      "Dans la boucle!\n",
      "La somme partielle vaut: 78\n",
      "Dans la boucle!\n",
      "La somme partielle vaut: 91\n",
      "Dans la boucle!\n",
      "La somme partielle vaut: 105\n",
      "Dans la boucle!\n",
      "La somme partielle vaut: 120\n",
      "Dans la boucle!\n",
      "La somme partielle vaut: 136\n",
      "Sorti de la boucle!\n",
      "La somme finale vaut: 153\n"
     ]
    }
   ],
   "source": [
    "# On somme des entiers consecutifs tant que la somme ne depasse pas 150 \n",
    "i = 0\n",
    "somme = 0\n",
    "while somme < 150:\n",
    "    print(\"Dans la boucle!\")\n",
    "    print(\"La somme partielle vaut: \" + str(somme))\n",
    "    somme += i\n",
    "    i += 1\n",
    "\n",
    "print(\"Sorti de la boucle!\")\n",
    "print(\"La somme finale vaut: \" + str(somme))"
   ]
  },
  {
   "cell_type": "markdown",
   "metadata": {},
   "source": [
    "**CONDITIONS D'ARRET ou de SAUT**"
   ]
  },
  {
   "cell_type": "code",
   "execution_count": 44,
   "metadata": {},
   "outputs": [
    {
     "name": "stdout",
     "output_type": "stream",
     "text": [
      "Dans la boucle!\n",
      "La somme partielle vaut: 0\n",
      "Dans la boucle!\n",
      "La somme partielle vaut: 0\n",
      "Dans la boucle!\n",
      "La somme partielle vaut: 1\n",
      "Dans la boucle!\n",
      "La somme partielle vaut: 3\n",
      "Dans la boucle!\n",
      "La somme partielle vaut: 6\n",
      "Dans la boucle!\n",
      "La somme partielle vaut: 10\n",
      "Dans la boucle!\n",
      "La somme partielle vaut: 15\n",
      "Dans la boucle!\n",
      "La somme partielle vaut: 21\n",
      "Dans la boucle!\n",
      "La somme partielle vaut: 28\n",
      "Dans la boucle!\n",
      "La somme partielle vaut: 36\n",
      "Dans la boucle!\n",
      "La somme partielle vaut: 45\n",
      "Dans la boucle!\n",
      "La somme partielle vaut: 55\n",
      "Dans la boucle!\n",
      "La somme partielle vaut: 66\n",
      "Dans la boucle!\n",
      "La somme partielle vaut: 78\n",
      "Dans la boucle!\n",
      "La somme partielle vaut: 91\n",
      "Dans la boucle!\n",
      "La somme partielle vaut: 105\n",
      "Dans la boucle!\n",
      "La somme partielle vaut: 120\n",
      "Dans la boucle!\n",
      "La somme partielle vaut: 136\n",
      "Sorti de la boucle!\n",
      "La somme finale vaut: 153\n"
     ]
    }
   ],
   "source": [
    "# On peut faire une boucle qui se repetera de maniere arbitrairement longue, et y inclure une condition d'arret\n",
    "# L'exemple precedent peut etre exprime ainsi:\n",
    "i = 0\n",
    "somme = 0\n",
    "# True sera toujours vrai, et il faut donc inclure une condition de sortie dans la boucle\n",
    "while True:\n",
    "    print(\"Dans la boucle!\")\n",
    "    print(\"La somme partielle vaut: \" + str(somme))\n",
    "    \n",
    "    somme += i\n",
    "    i += 1\n",
    "    \n",
    "    if somme > 150:\n",
    "        # break met fin a la boucle\n",
    "        break\n",
    "        \n",
    "print(\"Sorti de la boucle!\")\n",
    "print(\"La somme finale vaut: \" + str(somme))"
   ]
  },
  {
   "cell_type": "code",
   "execution_count": 45,
   "metadata": {},
   "outputs": [
    {
     "name": "stdout",
     "output_type": "stream",
     "text": [
      "1\n",
      "3\n",
      "5\n",
      "7\n",
      "9\n",
      "11\n",
      "13\n",
      "15\n",
      "17\n",
      "19\n"
     ]
    }
   ],
   "source": [
    "# On peut specifier une categorie d'exception pour laquelle le code de la boucle ne s'executera pas.\n",
    "# Elle prend la forme de la commande pass\n",
    "# La boucle suivante n'imprime pas que les nombres impairs a l'ecran. \n",
    "i = 1\n",
    "while True:\n",
    "    # % est l'operateur modulo; il retourne le reste de la division entiere de i par 2. i%2 == 0 implique donc que i est pair. \n",
    "    if i%2 == 0:\n",
    "        pass\n",
    "    else:\n",
    "        print(i)\n",
    "    i += 1\n",
    "    \n",
    "    if i > 20:\n",
    "        break\n"
   ]
  },
  {
   "cell_type": "markdown",
   "metadata": {},
   "source": [
    "**FONCTIONS**"
   ]
  },
  {
   "cell_type": "code",
   "execution_count": 46,
   "metadata": {},
   "outputs": [],
   "source": [
    "# Fonction simple ne retournant pas de valeur et ne prenant pas d'argument\n",
    "def simple_function():\n",
    "    print(\"Felicitations! Vous avez appele une fonction simple\")\n",
    "    \n",
    "# Fonction qui prend deux argments et affiche le resultat de la multiplication\n",
    "def multiplication(x, y):\n",
    "    print(x * y)\n",
    "    \n",
    "# Fonction qui porend deux arguments et retourne le resultat de la multiplication\n",
    "def multiplication2(x, y):\n",
    "    return(x * y)"
   ]
  },
  {
   "cell_type": "code",
   "execution_count": 47,
   "metadata": {},
   "outputs": [
    {
     "name": "stdout",
     "output_type": "stream",
     "text": [
      "Felicitations! Vous avez appele une fonction simple\n"
     ]
    }
   ],
   "source": [
    "simple_function()"
   ]
  },
  {
   "cell_type": "code",
   "execution_count": 48,
   "metadata": {},
   "outputs": [
    {
     "name": "stdout",
     "output_type": "stream",
     "text": [
      "4196426\n"
     ]
    }
   ],
   "source": [
    "multiplication(1567, 2678)"
   ]
  },
  {
   "cell_type": "code",
   "execution_count": 49,
   "metadata": {},
   "outputs": [
    {
     "name": "stdout",
     "output_type": "stream",
     "text": [
      "7006652\n"
     ]
    }
   ],
   "source": [
    "# On met le resultat de retour dans une variable\n",
    "result = multiplication2(1234, 5678)\n",
    "print(result)"
   ]
  },
  {
   "cell_type": "markdown",
   "metadata": {},
   "source": [
    "**RECURSION** "
   ]
  },
  {
   "cell_type": "code",
   "execution_count": 50,
   "metadata": {},
   "outputs": [],
   "source": [
    "def factorial(n):\n",
    "    if n <= 1:\n",
    "        return 1\n",
    "    else:\n",
    "        return n*factorial(n-1)"
   ]
  },
  {
   "cell_type": "code",
   "execution_count": 51,
   "metadata": {},
   "outputs": [
    {
     "name": "stdout",
     "output_type": "stream",
     "text": [
      "3628800\n"
     ]
    }
   ],
   "source": [
    "result  = factorial(10)\n",
    "print(result)"
   ]
  },
  {
   "cell_type": "markdown",
   "metadata": {},
   "source": [
    "**CLASSES et OBJETS**"
   ]
  },
  {
   "cell_type": "code",
   "execution_count": 52,
   "metadata": {},
   "outputs": [],
   "source": [
    "# Classe 'chien', qui possede des variables nom, age, race, couleur, humeur.\n",
    "# Deux fonctions: une fonction \"see_mailman\" qui change l'humeur a \"angry\" et qui appelle l'autre fonction, \"bark\", qui imprime un message a l'ecran. \n",
    "\n",
    "class chien:\n",
    "    # Une classe possede toujours une fonction init, qui initialise les variables. \n",
    "    def __init__(self, nom, age, race, couleur, humeur):\n",
    "        # Un objet refere a lui-meme avec le prefixe \"self\"\n",
    "        self.nom = nom\n",
    "        self.age = age\n",
    "        self.couleur = couleur\n",
    "        self.humeur = humeur \n",
    "    \n",
    "    # Les fonctions prennent l'objet lui-meme en argument \n",
    "    def bark(self):\n",
    "        print(\"WOOF! WOOF!\")\n",
    "    \n",
    "    def see_mailman(self):\n",
    "        self.humeur = \"angry\"\n",
    "        self.bark()"
   ]
  },
  {
   "cell_type": "code",
   "execution_count": 53,
   "metadata": {},
   "outputs": [],
   "source": [
    "# Initialisation d'un objet de la classe chien\n",
    "\n",
    "bambino = chien(\"Bambino\", 7, \"bouvier\", \"gris\", \"content\")"
   ]
  },
  {
   "cell_type": "code",
   "execution_count": 54,
   "metadata": {},
   "outputs": [
    {
     "data": {
      "text/plain": [
       "'content'"
      ]
     },
     "execution_count": 54,
     "metadata": {},
     "output_type": "execute_result"
    }
   ],
   "source": [
    "# On accede a un element de l'objet avec la forme : objet.element \n",
    "bambino.humeur"
   ]
  },
  {
   "cell_type": "code",
   "execution_count": 55,
   "metadata": {},
   "outputs": [
    {
     "name": "stdout",
     "output_type": "stream",
     "text": [
      "WOOF! WOOF!\n"
     ]
    }
   ],
   "source": [
    "bambino.bark()"
   ]
  },
  {
   "cell_type": "code",
   "execution_count": 56,
   "metadata": {},
   "outputs": [
    {
     "name": "stdout",
     "output_type": "stream",
     "text": [
      "WOOF! WOOF!\n"
     ]
    }
   ],
   "source": [
    "bambino.see_mailman()"
   ]
  },
  {
   "cell_type": "code",
   "execution_count": 57,
   "metadata": {},
   "outputs": [
    {
     "data": {
      "text/plain": [
       "'angry'"
      ]
     },
     "execution_count": 57,
     "metadata": {},
     "output_type": "execute_result"
    }
   ],
   "source": [
    "bambino.humeur"
   ]
  }
 ],
 "metadata": {
  "kernelspec": {
   "display_name": "Python 3",
   "language": "python",
   "name": "python3"
  },
  "language_info": {
   "codemirror_mode": {
    "name": "ipython",
    "version": 3
   },
   "file_extension": ".py",
   "mimetype": "text/x-python",
   "name": "python",
   "nbconvert_exporter": "python",
   "pygments_lexer": "ipython3",
   "version": "3.6.9"
  }
 },
 "nbformat": 4,
 "nbformat_minor": 4
}
