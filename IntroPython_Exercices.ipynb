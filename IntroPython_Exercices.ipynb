{
 "cells": [
  {
   "cell_type": "markdown",
   "metadata": {},
   "source": [
    "**Execution conditionnelle**"
   ]
  },
  {
   "cell_type": "code",
   "execution_count": 3,
   "metadata": {},
   "outputs": [
    {
     "name": "stdout",
     "output_type": "stream",
     "text": [
      "OK! 1\n",
      "OK! 2\n",
      "OK! 3\n",
      "OK! 4\n",
      "OK! 5\n"
     ]
    }
   ],
   "source": [
    "# TODO: initialiser les variables a, b, c, d, array pour que les expressions conditionnelles suivantes soient toutes executees. \n",
    "\n",
    "if a < b:\n",
    "    print(\"OK! 1\")\n",
    "\n",
    "if b in array:\n",
    "    print(\"OK! 2\")\n",
    "    \n",
    "if (a < b) and not(b < c):\n",
    "    print(\"OK! 3\")\n",
    "    \n",
    "if type(a) is float:\n",
    "    print(\"OK! 4\")\n",
    "    \n",
    "if type(d) is str:\n",
    "    print(\"OK! 5\")"
   ]
  },
  {
   "cell_type": "markdown",
   "metadata": {},
   "source": [
    "**Arrays** "
   ]
  },
  {
   "cell_type": "code",
   "execution_count": null,
   "metadata": {},
   "outputs": [],
   "source": [
    "# TODO: Ajouter un animal en position 0 et un autre en derniere position.\n",
    "# TODO: Retirer \"tomates\" de la liste. \n",
    "# TODO: Creer une boucle qui imprime \"J'aime les\" + animal pour tous les animaux de la liste\n",
    "# TODO: Profiter de cette boucle pour remplir le array animaux_reverse avec les elements de animaux, mais en ordre inverse\n",
    "\n",
    "animaux = [\"lapins\", \"giraffes\", \"tortues\", \"tomates\"]\n",
    "animaux_reverse = []\n",
    "\n",
    "# boucle \n",
    "\n",
    "print(animaux)\n",
    "print(animaux_reverse)"
   ]
  },
  {
   "cell_type": "code",
   "execution_count": null,
   "metadata": {},
   "outputs": [],
   "source": [
    "# TODO: Imprimer les chiffres lignes par lignes\n",
    "# Utiliser la fonction range() \n",
    "\n",
    "table = [[1,2,3], [4,5,6], [7,8,9]]\n",
    "nb_lignes = len(table)\n",
    "nb_colonnes = len(table[0])"
   ]
  },
  {
   "cell_type": "code",
   "execution_count": null,
   "metadata": {},
   "outputs": [],
   "source": [
    "# TODO: Imprimer les chiffres colonnes par colonnes \n",
    "\n",
    "table = [[1,4,7,10], [2,5,8,11], [3,6,9,12]]"
   ]
  },
  {
   "cell_type": "markdown",
   "metadata": {},
   "source": [
    "**Dictionnaires**"
   ]
  },
  {
   "cell_type": "code",
   "execution_count": null,
   "metadata": {},
   "outputs": [],
   "source": [
    "# TODO: Remplir le dictionnaire avec les entrees suivantes: age (entier), vaccine (booleen: True or False), nom (string)\n",
    "\n",
    "doggo = {}\n",
    "\n",
    "# TODO: Si le chien est vaccine, imprimer ses informations a l'ecran sous la forme \"Cle: valeur\"\n",
    "# Sinon, imprimer \"Nom_du_chien n'est pas vaccine\"."
   ]
  },
  {
   "cell_type": "markdown",
   "metadata": {},
   "source": [
    "**Iteration**"
   ]
  },
  {
   "cell_type": "code",
   "execution_count": 5,
   "metadata": {},
   "outputs": [
    {
     "name": "stdout",
     "output_type": "stream",
     "text": [
      "Avant le loop!\n",
      "Dans le loop!\n"
     ]
    },
    {
     "ename": "NameError",
     "evalue": "name 'condition' is not defined",
     "output_type": "error",
     "traceback": [
      "\u001b[0;31m---------------------------------------------------------------------------\u001b[0m",
      "\u001b[0;31mNameError\u001b[0m                                 Traceback (most recent call last)",
      "\u001b[0;32m<ipython-input-5-0a848dc69f92>\u001b[0m in \u001b[0;36m<module>\u001b[0;34m\u001b[0m\n\u001b[1;32m     11\u001b[0m \u001b[0;32mwhile\u001b[0m \u001b[0;32mTrue\u001b[0m\u001b[0;34m:\u001b[0m\u001b[0;34m\u001b[0m\u001b[0;34m\u001b[0m\u001b[0m\n\u001b[1;32m     12\u001b[0m     \u001b[0mprint\u001b[0m\u001b[0;34m(\u001b[0m\u001b[0;34m\"Dans le loop!\"\u001b[0m\u001b[0;34m)\u001b[0m\u001b[0;34m\u001b[0m\u001b[0;34m\u001b[0m\u001b[0m\n\u001b[0;32m---> 13\u001b[0;31m     \u001b[0;32mif\u001b[0m \u001b[0mcondition\u001b[0m\u001b[0;34m:\u001b[0m\u001b[0;34m\u001b[0m\u001b[0;34m\u001b[0m\u001b[0m\n\u001b[0m\u001b[1;32m     14\u001b[0m         \u001b[0;32mbreak\u001b[0m\u001b[0;34m\u001b[0m\u001b[0;34m\u001b[0m\u001b[0m\n\u001b[1;32m     15\u001b[0m \u001b[0;34m\u001b[0m\u001b[0m\n",
      "\u001b[0;31mNameError\u001b[0m: name 'condition' is not defined"
     ]
    }
   ],
   "source": [
    "# TODO: Utiliser un loop while True: pour compter de 0 jusqu'a un nombre specifie d'avance.\n",
    "# Ce nombre est contenu dans la variable 'limite'\n",
    "# A chaque repetition, imprimer a l'ecran le nombre ou vous etes rendus. \n",
    "# Remplacer \"condition\" par la condition qui mettra fin a la boucle au bon moment \n",
    "\n",
    "print(\"Avant le loop!\")\n",
    "\n",
    "limite = 0\n",
    "i = 0\n",
    "\n",
    "while True:\n",
    "    print(\"Dans le loop!\")\n",
    "    if condition:\n",
    "        break \n",
    "    \n",
    "print(\"Sorti du loop!\")"
   ]
  },
  {
   "cell_type": "code",
   "execution_count": null,
   "metadata": {},
   "outputs": [],
   "source": [
    "# TODO: trouver la maniere equivalente de le faire sans break condition\n",
    "\n",
    "print(\"Avant le loop!\")\n",
    "\n",
    "limite = 0\n",
    "i = 0\n"
   ]
  },
  {
   "cell_type": "markdown",
   "metadata": {},
   "source": [
    "**Fonctions**"
   ]
  },
  {
   "cell_type": "code",
   "execution_count": null,
   "metadata": {},
   "outputs": [],
   "source": [
    "# TODO: Creer une fonction sum(x,y) qui prend deux nombres en argument et retourne la somme\n",
    "# La tester avec quelques differentes entrees \n",
    "\n",
    "def sum(x,y):\n",
    "    return 0"
   ]
  },
  {
   "cell_type": "code",
   "execution_count": null,
   "metadata": {},
   "outputs": [],
   "source": [
    "# TODO: Creer une fonction qui prend un entier en entree et retourne True s'il est pair\n",
    "# La tester avec quelques differentes entrees \n",
    "# Truc : utiliser l'operateur modulo % qui retourne le reste de la division entiere \n",
    "\n",
    "def even(x):\n",
    "    return 0"
   ]
  },
  {
   "cell_type": "markdown",
   "metadata": {},
   "source": [
    "**Recursion**"
   ]
  },
  {
   "cell_type": "code",
   "execution_count": null,
   "metadata": {},
   "outputs": [],
   "source": [
    "# La suite de Fibonacci est definie par S0 = 0, S1 = 1, Sn = Sn-1 + Sn-2\n",
    "# Par exemple, S2 = S1 + S0 = 1 + 0 = 1\n",
    "# S3 = S2 + S1 = 1 + 1 = 2\n",
    "# S4 = S3 + S2 = 2 + 1 = 3\n",
    "# S5 = S4 + S3 = 3 + 2 = 5\n",
    "# etc. "
   ]
  },
  {
   "cell_type": "code",
   "execution_count": null,
   "metadata": {},
   "outputs": [],
   "source": [
    "# TODO : Creer une fonction fib(n) qui prend un entier en argument et qui retourne Sn.\n",
    "# Cette fonction doit utiliser la recursion, c'est-a-dire qu'elle doit s'appeler elle-meme. \n",
    "\n",
    "def fib(n):\n",
    "     return 0"
   ]
  },
  {
   "cell_type": "code",
   "execution_count": null,
   "metadata": {},
   "outputs": [],
   "source": [
    "# Le code precedent ne fonctionne pas correctement si on ne donne pas un nombre entier a la fonction.\n",
    "# TODO: Modifier la fonction pour qu'elle verifie si l'input est entier. S'il ne l'est pas, faites qu'elle retourne 0 et imprime un message d'erreur a l'ecran.\n",
    "\n",
    "def fib(n):\n",
    "     return 0\n",
    "    "
   ]
  },
  {
   "cell_type": "markdown",
   "metadata": {},
   "source": [
    "**Classes et objets** "
   ]
  },
  {
   "cell_type": "code",
   "execution_count": null,
   "metadata": {},
   "outputs": [],
   "source": [
    "# Ajouter une methode \"start\" a la classe voiture, qui change l'etat pour \"demarre\" et imprime \"Vroom! Vroom!\" a l'ecran.\n",
    "# Ajouter une methode \"stats\" a la classe, qui imprime les variables a l'ecran\n",
    "# Ajouter une methode \"prix\" qui prend l'annee et le kilometrage en argument et retourne un chiffre positif. La formule n'a pas d'importance. \n",
    "# Ajouter une fonction \"older\" qui prend une annee en argument et retourne True si la voiture est plus vieille et False sinon. \n",
    "# Creer un objet voiture et tester les fonctions \n",
    "\n",
    "class voiture():\n",
    "    def __init__(self, model, year, km, state):\n",
    "        self.model = model\n",
    "        self.year = year\n",
    "        self.km = km\n",
    "        self.state = state "
   ]
  }
 ],
 "metadata": {
  "kernelspec": {
   "display_name": "Python 3",
   "language": "python",
   "name": "python3"
  },
  "language_info": {
   "codemirror_mode": {
    "name": "ipython",
    "version": 3
   },
   "file_extension": ".py",
   "mimetype": "text/x-python",
   "name": "python",
   "nbconvert_exporter": "python",
   "pygments_lexer": "ipython3",
   "version": "3.6.9"
  }
 },
 "nbformat": 4,
 "nbformat_minor": 4
}
