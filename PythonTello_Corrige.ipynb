{
 "cells": [
  {
   "cell_type": "code",
   "execution_count": 27,
   "metadata": {},
   "outputs": [],
   "source": [
    "# Importation de la librairie easytello\n",
    "\n",
    "from easytello import tello"
   ]
  },
  {
   "cell_type": "code",
   "execution_count": null,
   "metadata": {},
   "outputs": [],
   "source": [
    "# Creation de l'objet Tello()\n",
    "# IMPORTANT: Il faut d'abord etre connecte au WIFI du drone\n",
    "\n",
    "my_drone = tello.Tello()"
   ]
  },
  {
   "cell_type": "markdown",
   "metadata": {},
   "source": [
    "**MOVEMENT**"
   ]
  },
  {
   "cell_type": "markdown",
   "metadata": {},
   "source": [
    "**Commandes de base** "
   ]
  },
  {
   "cell_type": "code",
   "execution_count": null,
   "metadata": {},
   "outputs": [],
   "source": [
    "# TODO : Faire decoller le drone\n",
    "\n",
    "my_drone.takeoff()"
   ]
  },
  {
   "cell_type": "code",
   "execution_count": null,
   "metadata": {},
   "outputs": [],
   "source": [
    "# TODO : Utiliser les commandes drone.cw(), drone.ccw(), drone.up(), drone.down(), drone.forward(), drone.backward(), drone.left(), drone.right() pour \n",
    "# programmer une trajectoire. \n",
    "# Il faut qu'il soit securitaire d'atterrir au dernier endroit. \n",
    "\n",
    "# EXEMPLE DE CORRECTION\n",
    "# N'importe quelle tajectoire fait l'affaire. \n",
    "\n",
    "my_drone.forward(50)"
   ]
  },
  {
   "cell_type": "code",
   "execution_count": null,
   "metadata": {},
   "outputs": [],
   "source": [
    "my_drone.up(50)"
   ]
  },
  {
   "cell_type": "code",
   "execution_count": null,
   "metadata": {},
   "outputs": [],
   "source": [
    "my_drone.cw(60)"
   ]
  },
  {
   "cell_type": "code",
   "execution_count": null,
   "metadata": {},
   "outputs": [],
   "source": [
    "# etc. "
   ]
  },
  {
   "cell_type": "code",
   "execution_count": null,
   "metadata": {},
   "outputs": [],
   "source": [
    "# Appuyer sur + dans le menu du haut pour ajouter des lignes d'instruction. "
   ]
  },
  {
   "cell_type": "code",
   "execution_count": null,
   "metadata": {},
   "outputs": [],
   "source": [
    "# TODO : Faire atterir le drone \n",
    "\n",
    "my_drone.land()"
   ]
  },
  {
   "cell_type": "markdown",
   "metadata": {},
   "source": [
    "**Courbes**"
   ]
  },
  {
   "cell_type": "code",
   "execution_count": null,
   "metadata": {},
   "outputs": [],
   "source": [
    "# TODO : Faire decoller le drone\n",
    "\n",
    "my_drone.takeoff()"
   ]
  },
  {
   "cell_type": "code",
   "execution_count": null,
   "metadata": {},
   "outputs": [],
   "source": [
    "# TODO: Specifier une courbe avec drone.curve() qui va du point (0,0,0) au point (50,50,50) au point (0, 50, 100) a une vitesse de 30 cm/s\n",
    "\n",
    "# EXEMPLE DE CORRECTION\n",
    "\n",
    "my_drone.curve(50, 50, 50, 0, 50, 200, 30)"
   ]
  },
  {
   "cell_type": "code",
   "execution_count": null,
   "metadata": {},
   "outputs": [],
   "source": [
    "# TODO: Specifier une courbe et une vitesse de votre choix.\n",
    "\n",
    "# EXEMPLE DE CORRECTION \n",
    "\n",
    "my_drone.curve()"
   ]
  },
  {
   "cell_type": "code",
   "execution_count": null,
   "metadata": {},
   "outputs": [],
   "source": [
    "# TODO: Faire atterrir le drone\n",
    "\n",
    "my_drone.land()"
   ]
  },
  {
   "cell_type": "markdown",
   "metadata": {},
   "source": [
    "**FUNCTIONS**"
   ]
  },
  {
   "cell_type": "code",
   "execution_count": null,
   "metadata": {},
   "outputs": [],
   "source": [
    "# TODO: A l'image de la fonction square vue en exemple, creer une fonction qui fait tracer au drone un triangle equilateral\n",
    "# Tester la fonction \n",
    "\n",
    "# EXEMPLE DE CORRECTION\n",
    "\n",
    "def eq_triangle(drone, side):\n",
    "    for i in range(3):\n",
    "        drone.forward(side)\n",
    "        drone.cw(60)\n",
    "\n",
    "my_drone.takeoff()\n",
    "eq_triangle(my_drone, 60)\n",
    "my_drone.land()"
   ]
  },
  {
   "cell_type": "code",
   "execution_count": 28,
   "metadata": {},
   "outputs": [],
   "source": [
    "# TODO: En utilisant le theoreme de pythagore, creer une fonction qui fait tracer au drone un triangle rectangle.\n",
    "# La fonction prendra en argument un rayon et un angle.\n",
    "# Tester la fonction\n",
    "\n",
    "import math\n",
    "\n",
    "# EXEMPLE DE CORRECTION \n",
    "\n",
    "def right_triangle(drone, radius, angle):\n",
    "    # La longueur des cotes est determinee par l'angle et le rayon\n",
    "    \n",
    "    adjacent = radius*math.cos(angle)\n",
    "    opposite = radius*math.cos(angle)\n",
    "    \n",
    "    # On a deux angles specifies et les trois angles doivent sommer a 180. \n",
    "    \n",
    "    sides = [adjacent, opposite, radius]\n",
    "    angles = [90, 180 - 90 - angle, angle]\n",
    "    \n",
    "    # Les angles et les cotes sont stockes dans des arrays, ce qui permet l'iteration. \n",
    "    \n",
    "    # Il faut transformer les longueurs (sides) en entier pour la methode .forward()\n",
    "    # Il faut soustraire l'angle interieur a 180 degres car nous cherchons la trajectoire du drone. \n",
    "    \n",
    "    for i in range(3):\n",
    "        drone.forward(int(sides[i]))\n",
    "        drone.ccw(180 - angles[i])\n",
    "        \n",
    "my_drone.takeoff()\n",
    "right_triangle(my_drone, 100, 45)\n",
    "my_drone.land()"
   ]
  },
  {
   "cell_type": "code",
   "execution_count": null,
   "metadata": {},
   "outputs": [],
   "source": [
    "# TODO: Creer une fonction generale qui pourra tracer n'importe quel polygone de 4 faces et plus. \n",
    "# La fonction prendra en argument la longueur des cotes et le nombre de cotes. \n",
    "# Tester la fonction \n",
    "\n",
    "# EXEMPLE DE CORRECTION\n",
    "\n",
    "def polygon(drone, nb_sides, length_sides):\n",
    "    sum_angles = (nb_sides - 2) * 180\n",
    "    for i in range(nb_sides):\n",
    "        # Pour trouver l'angle, il faut diviser 360 par le nombre de cotes. Ex: Carre => 360/4 = 90.\n",
    "        # Les fonctions cw() et ccw() ne prennent que des nombres entiers. Il faut donc convertir le resultat a int. \n",
    "        drone.forward(length_sides)\n",
    "        drone.ccw(180 - int(sum_angles/nb_sides))\n",
    "\n",
    "my_drone.takeoff()\n",
    "polygon(my_drone, 7, 50)\n",
    "my_drone.land()"
   ]
  },
  {
   "cell_type": "markdown",
   "metadata": {},
   "source": [
    "**TELEMETRIE**"
   ]
  },
  {
   "cell_type": "code",
   "execution_count": null,
   "metadata": {},
   "outputs": [],
   "source": [
    "# TODO: Faire monter le Tello a 150 cm du sol. \n",
    "# TODO: Enregistrer le time of flight (tof)\n",
    "# TODO: Creer une boucle qui cherchera a garder le tof constant. \n",
    "# TODO: Apres un nombre de repetition etabli d'avance dans une variable, sortir du loop et atterrir. \n",
    "\n",
    "# EXEMPLE DE CORRECTION\n",
    "\n",
    "my_drone.takeoff()\n",
    "\n",
    "# Monter de la difference entre 150 et la hauteur actuelle. \n",
    "\n",
    "height = my_drone.get_height()\n",
    "my_drone.up(150 - height)\n",
    "\n",
    "# Enregistrer le time of flight initial \n",
    "\n",
    "initial_tof = my_drone.get_tof()\n",
    "\n",
    "# Nombre de repetition de la boucle \n",
    "\n",
    "rep = 100 \n",
    "\n",
    "# Boucle.\n",
    "\n",
    "for i in range(rep):\n",
    "    # Enregistrer le tof actuel \n",
    "    current_tof = my_drone.get_tof()\n",
    "    \n",
    "    # Calculer la difference avec le tof initial.\n",
    "    \n",
    "    diff = initial_tof - current_tof \n",
    "    \n",
    "    # Si la difference est plus grande que 20cm (mouvement minimal), monter de la difference\n",
    "    # Si la difference est plus petite de -20cm, descendre de moins la difference (la difference est negative et il faut descendre d'une distance positive)\n",
    "    # Le tof est en millimetres donc diff aussi. Il faut donc diviser par 10 et convertir en entier pour utiliser diff dans le mouvement. \n",
    "    \n",
    "    if diff > 200:\n",
    "        my_drone.up(int(diff/10))\n",
    "    elif diff < -200:\n",
    "        my_drone.down(-int(diff/10))\n",
    "    \n",
    "\n",
    "my_drone.land()"
   ]
  },
  {
   "cell_type": "markdown",
   "metadata": {},
   "source": [
    "**VIDEO STREAM**"
   ]
  },
  {
   "cell_type": "code",
   "execution_count": null,
   "metadata": {},
   "outputs": [],
   "source": [
    "# TODO: Demarrer le stream video\n",
    "\n",
    "# EXEMPLE DE CORRECTION \n",
    "\n",
    "my_drone.stream()"
   ]
  },
  {
   "cell_type": "code",
   "execution_count": null,
   "metadata": {},
   "outputs": [],
   "source": [
    "# TODO : Faire bouger le drone \n",
    "\n",
    "# EXEMPLE DE CORRECTION\n",
    "# N'importe quel mouvement ou fonction de mouvement fait l'affaire \n",
    "\n",
    "my_drone.takeoff()\n",
    "polygon(my_drone, 4, 100)"
   ]
  },
  {
   "cell_type": "code",
   "execution_count": null,
   "metadata": {},
   "outputs": [],
   "source": [
    "# TODO : Faire atterrir le drone et mettre fin au stream\n",
    "\n",
    "# EXEMPLE DE CORRECTION\n",
    "\n",
    "my_drone.land()\n",
    "my_drone.streamoff()"
   ]
  },
  {
   "cell_type": "markdown",
   "metadata": {},
   "source": [
    "**MISSION PAD**"
   ]
  },
  {
   "cell_type": "code",
   "execution_count": null,
   "metadata": {},
   "outputs": [],
   "source": [
    "# TODO : Activer la camera ventrale \n",
    "\n",
    "# EXEMPLE DE CORRECTION \n",
    "\n",
    "my_drone.send_command(\"mon\")"
   ]
  },
  {
   "cell_type": "code",
   "execution_count": null,
   "metadata": {},
   "outputs": [],
   "source": [
    "# TODO: Tracer le parcours illustre en utilisant au moins une fois chaque commande (go, jump, curve)\n",
    "\n",
    "# EXEMPLE DE CORRECTION \n",
    "# Ajuster les distances de la commande go selon l'espacement entre les pads \n",
    "\n",
    "my_drone.takeoff()\n",
    "\n",
    "my_drone.up(50)\n",
    "\n",
    "for i in range(4):\n",
    "\n",
    "\tmy_drone.send_command(\"go 50 0 120 30 m1\")\n",
    "\tmy_drone.send_command(\"go 0 0 120 30 m2\")\n",
    "\n",
    "\tmy_drone.send_command(\"go 50 -40 120 30 m2\")\n",
    "\tmy_drone.send_command(\"go 0 0 120 30 m3\")\n",
    "\n",
    "\tmy_drone.send_command(\"go 50 40 120 30 m3\")\n",
    "\tmy_drone.send_command(\"go 0 0 120 30 m1\")\n",
    "\t\n",
    "my_drone.send_command(\"moff\")\n",
    "\n",
    "my_drone.land()"
   ]
  },
  {
   "cell_type": "code",
   "execution_count": null,
   "metadata": {},
   "outputs": [],
   "source": [
    "# TODO : Desactiver la camera ventrale \n",
    "\n",
    "my_drone.send_command(\"moff\")"
   ]
  },
  {
   "cell_type": "markdown",
   "metadata": {},
   "source": [
    "**WRAP UP**"
   ]
  },
  {
   "cell_type": "code",
   "execution_count": 1,
   "metadata": {},
   "outputs": [],
   "source": [
    "# TODO : Faire patrouiller le drone dans un carre a 150 cm du sol. \n",
    "# S'il detecte quelque chose sous lui, lui faire faire une pirouette. Utiliser pour cela le \"time of flight\"\n",
    "# A la sortie de la boucle, aller se poser sur le mission pad 1. Attention! Le time of flight n'est pas disponible si la camera des mission pads est activee. \n",
    "# Il faut donc l'activer apres la patrouille! \n",
    "\n",
    "# EXEMPLE DE CORRECTION \n",
    "\n",
    "my_drone.takeoff()\n",
    "\n",
    "# Calcule la hauteur du drone\n",
    "# Pour se rendre a 150 cm du sol, il faut monter de la difference entre sa hauteur actuelle et 150 \n",
    "\n",
    "height = my_drone.get_height()\n",
    "my_drone.up(150 - height)\n",
    "\n",
    "# On utilise le time of flight \"tof\" pour detecter la presence d'un objet. \n",
    "# On comparera le tof de la patrouille avec un tof initial enregistre dans une variable \n",
    "\n",
    "initial_tof = my_drone.get_tof()\n",
    "\n",
    "\n",
    "# Un carre est constitue de 4 cotes. On tournera donc 4 fois de 90 degres avant de revenir au debut. \n",
    "for j in range(4):\n",
    "    my_drone.cw(90)\n",
    "    # On avance de 100 cm divise en morceaux de 20 cm. A chaque 20 cm, le drone calcule le time of flight et voit s'il a detecte un objet. \n",
    "    # Si on ne divise pas chaque cote en petits morceaux, le drone ne pourra detecter l'objet qu'une fois rendu aux coins. \n",
    "    for i in range(5):\n",
    "        my_drone.forward(20)\n",
    "        current_tof = my_drone.get_tof()\n",
    "        # Si le tof actuel est plus petit de 10 cm du tof initial, on considere qu'un objet est detecte et on fait une pirouette\n",
    "        if current_tof < initial_tof - 100:\n",
    "            my_drone.flip(\"l\")\n",
    "            \n",
    "# Maintenant sorti de la boucle, on peut activer la camera ventrale. \n",
    "\n",
    "my_drone.send_command(\"mon\")\n",
    "\n",
    "# Se diriger directement au-dessus du mission pad, aux coordonnes (0, 0, 150)\n",
    "my_drone.send_command(\"go 0 0 150 40 1\")\n",
    "\n",
    "# Atterrir et fermer la detection ventrale\n",
    "my_drone.land()"
   ]
  }
 ],
 "metadata": {
  "kernelspec": {
   "display_name": "Python 3",
   "language": "python",
   "name": "python3"
  },
  "language_info": {
   "codemirror_mode": {
    "name": "ipython",
    "version": 3
   },
   "file_extension": ".py",
   "mimetype": "text/x-python",
   "name": "python",
   "nbconvert_exporter": "python",
   "pygments_lexer": "ipython3",
   "version": "3.6.9"
  }
 },
 "nbformat": 4,
 "nbformat_minor": 4
}
