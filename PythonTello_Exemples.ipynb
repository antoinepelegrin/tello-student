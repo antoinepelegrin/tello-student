{
 "cells": [
  {
   "cell_type": "code",
   "execution_count": null,
   "metadata": {},
   "outputs": [],
   "source": [
    "# Importation de la librairie easytello\n",
    "\n",
    "from easytello import tello"
   ]
  },
  {
   "cell_type": "code",
   "execution_count": null,
   "metadata": {},
   "outputs": [],
   "source": [
    "# Creation de l'objet Tello()\n",
    "# IMPORTANT: Il faut d'abord etre connecte au WIFI du drone\n",
    "\n",
    "my_drone = tello.Tello()"
   ]
  },
  {
   "cell_type": "markdown",
   "metadata": {},
   "source": [
    "**VERY BASIC SCRIPT**"
   ]
  },
  {
   "cell_type": "code",
   "execution_count": null,
   "metadata": {},
   "outputs": [],
   "source": [
    "# Decollage, petit parcours et atterissage. \n",
    "# A modifier potentiellement selon la disposition de la piece. \n",
    "\n",
    "my_drone.takeoff()\n",
    "\n",
    "my_drone.forward(50)\n",
    "my_drone.up(50)\n",
    "my_drone.ccw(180)\n",
    "my_drone.forward(50)\n",
    "\n",
    "my_drone.land()"
   ]
  },
  {
   "cell_type": "markdown",
   "metadata": {},
   "source": [
    "**SQUARE** "
   ]
  },
  {
   "cell_type": "code",
   "execution_count": null,
   "metadata": {},
   "outputs": [],
   "source": [
    "# Fonction qui trace un carre parallelement au sol\n",
    "\n",
    "def square(drone, side):\n",
    "    for i in range(4):\n",
    "        drone.forward(side)\n",
    "        drone.ccw(90)"
   ]
  },
  {
   "cell_type": "code",
   "execution_count": null,
   "metadata": {},
   "outputs": [],
   "source": [
    "# Decollage, execution et atterissage\n",
    "\n",
    "my_drone.takeoff()\n",
    "\n",
    "square(my_drone, 50)\n",
    "\n",
    "my_drone.land()"
   ]
  },
  {
   "cell_type": "markdown",
   "metadata": {},
   "source": [
    "**ANOTHER MOVEMENT FUNCTION**"
   ]
  },
  {
   "cell_type": "code",
   "execution_count": null,
   "metadata": {},
   "outputs": [],
   "source": [
    "# Fonction qui trace un carre perpendiculairement au sol\n",
    "\n",
    "def vertical_square(drone, side):\n",
    "    drone.left(side)\n",
    "    drone.up(side)\n",
    "    drone.right(side)\n",
    "    drone.down(side)"
   ]
  },
  {
   "cell_type": "code",
   "execution_count": null,
   "metadata": {},
   "outputs": [],
   "source": [
    "# Decollage, execution et atterissage\n",
    "\n",
    "my_drone.takeoff()\n",
    "\n",
    "vertical_square(my_drone, 50)\n",
    "\n",
    "my_drone.land()"
   ]
  },
  {
   "cell_type": "markdown",
   "metadata": {},
   "source": [
    "**INTEGRATE CAMERA STREAM**"
   ]
  },
  {
   "cell_type": "code",
   "execution_count": null,
   "metadata": {},
   "outputs": [],
   "source": [
    "# Demarrer le stream\n",
    "\n",
    "my_drone.stream()"
   ]
  },
  {
   "cell_type": "code",
   "execution_count": null,
   "metadata": {},
   "outputs": [],
   "source": [
    "# Mouvement quelconque\n",
    "\n",
    "my_drone.takeoff()\n",
    "my_drone.ccw(360)\n",
    "my_drone.up(50)\n",
    "my_drone.down(50)\n",
    "my_drone.land()"
   ]
  },
  {
   "cell_type": "code",
   "execution_count": null,
   "metadata": {},
   "outputs": [],
   "source": [
    "# Mettre fin au stream\n",
    "\n",
    "my_drone.streamoff()"
   ]
  },
  {
   "cell_type": "markdown",
   "metadata": {},
   "source": [
    "**INTEGRATE TELEMETRIC FOR CONTROL** "
   ]
  },
  {
   "cell_type": "code",
   "execution_count": null,
   "metadata": {},
   "outputs": [],
   "source": [
    "my_drone.takeoff()\n",
    "\n",
    "# Le drone monte tant qu'il n'a pas atteint 200 cm de hauteur\n",
    "height = my_drone.get_height()\n",
    "while height < 200:\n",
    "    my_drone.up(20)\n",
    "    height = my_drone.get_height()\n",
    "    print(height)\n",
    "    \n",
    "my_drone.land()"
   ]
  },
  {
   "cell_type": "code",
   "execution_count": null,
   "metadata": {},
   "outputs": [],
   "source": [
    "# Interroge la batterie\n",
    "print(my_drone.get_battery())"
   ]
  },
  {
   "cell_type": "code",
   "execution_count": null,
   "metadata": {},
   "outputs": [],
   "source": [
    "# La commande drone.get_time() donne le temps passe depuis le decollage\n",
    "# Faire pivoter le drone sur lui-meme pendant 30 secondes\n",
    "\n",
    "# On initialise la variable \"currentHeight\" a 0. Plus tard, on y va y mettre la hauteur mesuree a chaque iteration.\n",
    "currentHeight = 0\n",
    "\n",
    "my_drone.takeoff()\n",
    "\n",
    "# On range le temps actuel dans une variable\n",
    "beginning = my_drone.get_time()\n",
    "\n",
    "# Le loop continue tant que ca ne fait pas 30 secondes depuis qu'on a enregistre le premier temps\n",
    "while current < beginning + 30:\n",
    "    # Petite rotation\n",
    "    my_drone.ccw(20)\n",
    "    # On enregistre le nouveau temps\n",
    "    current = my_drone.get_time()\n",
    "    \n",
    "# Atterrissage \n",
    "my_drone.land()\n"
   ]
  },
  {
   "cell_type": "markdown",
   "metadata": {},
   "source": [
    "**PROGRAMMING WITH MISSION PADS**"
   ]
  },
  {
   "cell_type": "code",
   "execution_count": null,
   "metadata": {},
   "outputs": [],
   "source": [
    "# Placer les mission pads 1 et 2 face a face a environ 60cm de distance.\n",
    "# Les fusees de chaque mission pad doivent pointer vers l'autre. \n",
    "# Le drone fera un aller-retour a chaque repetition de la boucle. \n",
    "\n",
    "my_drone.takeoff()\n",
    "\n",
    "# Activer camera ventrale \n",
    "\n",
    "my_drone.send_command(\"mon\")\n",
    "\n",
    "my_drone.up(50)\n",
    "\n",
    "for i in range(4):\n",
    "\n",
    "    # Va au point (50, 0, 120) par rapport a m1. \n",
    "    # Une fois assez proche, se placer directement au-dessu de m2. \n",
    "    \n",
    "\tmy_drone.send_command(\"go 50 0 100 30 m1\")\n",
    "\tmy_drone.send_command(\"go 0 0 100 30 m2\")\n",
    "    \n",
    "    # ROtation de 180 degres \n",
    "\n",
    "\tmy_drone.cw(180)\n",
    "    \n",
    "    # Va au point (50, 0, 120) par rapport a m2. \n",
    "    # Une fois assez proche, se placer directement au-dessu de m1. \n",
    "\n",
    "\tmy_drone.send_command(\"go 50 0 100 30 m2\")\n",
    "\tmy_drone.send_command(\"go 0 0 100 30 m1\")\n",
    "\n",
    "    # Rotation de 180 degres \n",
    "    \n",
    "\tmy_drone.cw(180)\n",
    "\n",
    "# Desactiver camera ventrale \n",
    "\n",
    "my_drone.send_command(\"moff\")\n",
    "\n",
    "my_drone.land()"
   ]
  }
 ],
 "metadata": {
  "kernelspec": {
   "display_name": "Python 3",
   "language": "python",
   "name": "python3"
  },
  "language_info": {
   "codemirror_mode": {
    "name": "ipython",
    "version": 3
   },
   "file_extension": ".py",
   "mimetype": "text/x-python",
   "name": "python",
   "nbconvert_exporter": "python",
   "pygments_lexer": "ipython3",
   "version": "3.6.9"
  }
 },
 "nbformat": 4,
 "nbformat_minor": 4
}
