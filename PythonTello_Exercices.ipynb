{
 "cells": [
  {
   "cell_type": "code",
   "execution_count": 27,
   "metadata": {},
   "outputs": [],
   "source": [
    "# Importation de la librairie easytello\n",
    "\n",
    "from easytello import tello"
   ]
  },
  {
   "cell_type": "code",
   "execution_count": null,
   "metadata": {},
   "outputs": [],
   "source": [
    "# Creation de l'objet Tello()\n",
    "# IMPORTANT: Il faut d'abord etre connecte au WIFI du drone\n",
    "\n",
    "my_drone = tello.Tello()"
   ]
  },
  {
   "cell_type": "markdown",
   "metadata": {},
   "source": [
    "**MOVEMENT**"
   ]
  },
  {
   "cell_type": "markdown",
   "metadata": {},
   "source": [
    "**Commandes de base**"
   ]
  },
  {
   "cell_type": "code",
   "execution_count": null,
   "metadata": {},
   "outputs": [],
   "source": [
    "# TODO : Faire decoller le drone"
   ]
  },
  {
   "cell_type": "code",
   "execution_count": null,
   "metadata": {},
   "outputs": [],
   "source": [
    "# TODO : Utiliser les commandes drone.cw(), drone.ccw(), drone.up(), drone.down(), drone.forward(), drone.backward(), drone.left(), drone.right() pour \n",
    "# programmer une trajectoire. "
   ]
  },
  {
   "cell_type": "code",
   "execution_count": null,
   "metadata": {},
   "outputs": [],
   "source": []
  },
  {
   "cell_type": "code",
   "execution_count": null,
   "metadata": {},
   "outputs": [],
   "source": []
  },
  {
   "cell_type": "code",
   "execution_count": null,
   "metadata": {},
   "outputs": [],
   "source": []
  },
  {
   "cell_type": "code",
   "execution_count": null,
   "metadata": {},
   "outputs": [],
   "source": []
  },
  {
   "cell_type": "code",
   "execution_count": null,
   "metadata": {},
   "outputs": [],
   "source": [
    "# Appuyer sur + dans le menu du haut pour ajouter des lignes d'instruction. "
   ]
  },
  {
   "cell_type": "code",
   "execution_count": null,
   "metadata": {},
   "outputs": [],
   "source": [
    "# TODO : Faire atterir le drone "
   ]
  },
  {
   "cell_type": "markdown",
   "metadata": {},
   "source": [
    "**Courbes**"
   ]
  },
  {
   "cell_type": "code",
   "execution_count": null,
   "metadata": {},
   "outputs": [],
   "source": [
    "# TODO : Faire decoller le drone"
   ]
  },
  {
   "cell_type": "code",
   "execution_count": null,
   "metadata": {},
   "outputs": [],
   "source": [
    "# TODO: Specifier une courbe avec drone.curve() qui va du point (0,0,0) au point (50,50,50) au point (0, 50, 100) a une vitesse de 30 cm/s"
   ]
  },
  {
   "cell_type": "code",
   "execution_count": null,
   "metadata": {},
   "outputs": [],
   "source": [
    "# TODO: Specifier une courbe et une vitesse de votre choix. "
   ]
  },
  {
   "cell_type": "code",
   "execution_count": null,
   "metadata": {},
   "outputs": [],
   "source": [
    "# TODO : Faire atterrir le drone "
   ]
  },
  {
   "cell_type": "markdown",
   "metadata": {},
   "source": [
    "**FUNCTIONS**"
   ]
  },
  {
   "cell_type": "code",
   "execution_count": null,
   "metadata": {},
   "outputs": [],
   "source": [
    "# TODO: A l'image de la fonction square vue en exemple, creer une fonction qui fait tracer au drone un triangle equilateral\n",
    "# Tester la fonction \n",
    "\n",
    "def eq_triangle(drone, side):\n",
    "    return 0"
   ]
  },
  {
   "cell_type": "code",
   "execution_count": 28,
   "metadata": {},
   "outputs": [],
   "source": [
    "# TODO: En utilisant le theoreme de pythagore, creer une fonction qui fait tracer au drone un triangle rectangle.\n",
    "# La fonction prendra en argument un rayon et un angle.\n",
    "# Tester la fonction\n",
    "\n",
    "import math\n",
    "\n",
    "def right_triangle(drone, radius, angle):\n",
    "    return 0"
   ]
  },
  {
   "cell_type": "code",
   "execution_count": null,
   "metadata": {},
   "outputs": [],
   "source": [
    "# TODO: Creer une fonction generale qui pourra tracer n'importe quel polygone  de 4 faces et plus.\n",
    "# La fonction prendra en argument la longueur des cotes et le nombre de cotes. \n",
    "# Tester la fonction \n",
    "\n",
    "def polygon(drone, nb_sides, length_sides):\n",
    "    return 0"
   ]
  },
  {
   "cell_type": "markdown",
   "metadata": {},
   "source": [
    "**TELEMETRIE**"
   ]
  },
  {
   "cell_type": "code",
   "execution_count": null,
   "metadata": {},
   "outputs": [],
   "source": [
    "# TODO: Faire monter le Tello a 150 cm du sol. \n",
    "# TODO: Enregistrer le time of flight (tof)\n",
    "# TODO: Creer une boucle qui cherchera a garder le tof constant. \n",
    "# TODO: Apres un nombre de repetition etabli d'avance dans une variable, sortir du loop et atterrir. "
   ]
  },
  {
   "cell_type": "markdown",
   "metadata": {},
   "source": [
    "**VIDEO STREAM**"
   ]
  },
  {
   "cell_type": "code",
   "execution_count": null,
   "metadata": {},
   "outputs": [],
   "source": [
    "# TODO : Demarrer le stream video"
   ]
  },
  {
   "cell_type": "code",
   "execution_count": null,
   "metadata": {},
   "outputs": [],
   "source": [
    "# TODO : Faire bouger le drone"
   ]
  },
  {
   "cell_type": "code",
   "execution_count": null,
   "metadata": {},
   "outputs": [],
   "source": [
    "# TODO : Faire atterir le drone et mettre fin au stream"
   ]
  },
  {
   "cell_type": "markdown",
   "metadata": {},
   "source": [
    "**MISSION PAD**"
   ]
  },
  {
   "cell_type": "code",
   "execution_count": null,
   "metadata": {},
   "outputs": [],
   "source": [
    "# TODO : Activer la camera ventrale"
   ]
  },
  {
   "cell_type": "code",
   "execution_count": null,
   "metadata": {},
   "outputs": [],
   "source": [
    "# TODO: Tracer le parcours illustre en utilisant au moins une fois chaque commande (go, jump, curve)"
   ]
  },
  {
   "cell_type": "code",
   "execution_count": null,
   "metadata": {},
   "outputs": [],
   "source": [
    "# TODO : Desactiver la camera ventrale "
   ]
  },
  {
   "cell_type": "markdown",
   "metadata": {},
   "source": [
    "**WRAP UP**"
   ]
  },
  {
   "cell_type": "code",
   "execution_count": null,
   "metadata": {},
   "outputs": [],
   "source": [
    "# TODO : Faire patrouiller le drone dans un carre a 150 cm du sol. \n",
    "# S'il detecte quelque chose sous lui, lui faire faire une pirouette. Utiliser pour cela le \"time of flight\"\n",
    "# A la sortie de la boucle, aller se poser sur le mission pad 1. Attention! Le time of flight n'est pas disponible si la camera des mission pads est activee. \n",
    "# Il faut donc l'activer apres la patrouille! "
   ]
  }
 ],
 "metadata": {
  "kernelspec": {
   "display_name": "Python 3",
   "language": "python",
   "name": "python3"
  },
  "language_info": {
   "codemirror_mode": {
    "name": "ipython",
    "version": 3
   },
   "file_extension": ".py",
   "mimetype": "text/x-python",
   "name": "python",
   "nbconvert_exporter": "python",
   "pygments_lexer": "ipython3",
   "version": "3.6.9"
  }
 },
 "nbformat": 4,
 "nbformat_minor": 4
}
