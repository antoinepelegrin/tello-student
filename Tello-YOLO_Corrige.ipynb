{
 "cells": [
  {
   "cell_type": "markdown",
   "metadata": {},
   "source": [
    "**INITIALISATION** "
   ]
  },
  {
   "cell_type": "code",
   "execution_count": null,
   "metadata": {},
   "outputs": [],
   "source": [
    "# Librairies \n",
    "from easytello import tello\n",
    "from darkflow.net.build import TFNet\n",
    "import cv2\n",
    "import numpy as np\n",
    "import math\n",
    "\n",
    "# Parametres du modele\n",
    "options = {\"model\" : \"yolo/cfg/yolo-lite.cfg\", \"load\": \"yolo/weights/yolo-lite.weights\", \"threshold\" : 0.26}\n",
    "# Initialisaton du modele\n",
    "yolo = TFNet(options)\n",
    "\n",
    "# Importation d'outils yolotools\n",
    "from yolotools import VideoCapture\n",
    "from yolotools import bounding_boxes\n",
    "from yolotools import detected"
   ]
  },
  {
   "cell_type": "code",
   "execution_count": null,
   "metadata": {},
   "outputs": [],
   "source": [
    "# Objet Tello() \n",
    "my_drone = tello.Tello()"
   ]
  },
  {
   "cell_type": "markdown",
   "metadata": {},
   "source": [
    "**VIDEO** "
   ]
  },
  {
   "cell_type": "code",
   "execution_count": null,
   "metadata": {},
   "outputs": [],
   "source": [
    "# Il faut d'abord demander au drone de nous fournir son stream video grace a la fonction streamon()\n",
    "my_drone.streamon()\n",
    "\n",
    "# Creation de l'objet capture \n",
    "# La source du video est la variable video_source de l'objet Tello() \n",
    "\n",
    "capture = VideoCapture(my_drone.video_source)"
   ]
  },
  {
   "cell_type": "code",
   "execution_count": null,
   "metadata": {},
   "outputs": [],
   "source": [
    "# TODO: Sur le modele des exemples, creer une boucle qui affichera a l'ecran le stream video du Tello. \n",
    "# Condition de break***\n",
    "\n",
    "# EXEMPLE DE CORRECTION\n",
    "\n",
    "while my_drone.stream_state:\n",
    "    \n",
    "    frame = capture.read()\n",
    "    \n",
    "    if frame is None:\n",
    "        break\n",
    "    \n",
    "    cv2.imshow(\"Tello Stream\", frame)\n",
    "    \n",
    "    if cv2.waitKey(1) & 0xFF == ord(\"q\"):\n",
    "        break\n",
    "\n",
    "my_drone.streamoff()\n",
    "capture.release()\n",
    "cv2.destroyAllWindows()  "
   ]
  },
  {
   "cell_type": "markdown",
   "metadata": {},
   "source": [
    "**YOLO**"
   ]
  },
  {
   "cell_type": "code",
   "execution_count": null,
   "metadata": {},
   "outputs": [],
   "source": [
    "# TODO: Sur le modele des exemples et du chapitre precedent, ajouter yolo.return_predict() et bounding_boxes() a la boucle. \n",
    "\n",
    "# EXEMPLE DE CORRECTION\n",
    "\n",
    "my_drone.streamon()\n",
    "capture = VideoCapture(my_drone.video_source)\n",
    "\n",
    "while my_drone.stream_state:\n",
    "    \n",
    "    frame = capture.read()\n",
    "    \n",
    "    if frame is None:\n",
    "        break\n",
    "    \n",
    "    # YOLO + Bounding boxes \n",
    "    \n",
    "    predictions = yolo.return_predict(frame) \n",
    "    bounding_boxes(predictions, frame)\n",
    "    \n",
    "    cv2.imshow(\"Tello Stream\", frame)\n",
    "    \n",
    "    if cv2.waitKey(1) & 0xFF == ord(\"q\"):\n",
    "        break\n",
    "        \n",
    "my_drone.streamoff()\n",
    "capture.release()\n",
    "cv2.destroyAllWindows()  "
   ]
  },
  {
   "cell_type": "markdown",
   "metadata": {},
   "source": [
    "**CONTROLE** "
   ]
  },
  {
   "cell_type": "code",
   "execution_count": null,
   "metadata": {},
   "outputs": [],
   "source": [
    "# TODO: Choisir une des classes dans le fichier labels.txt. Vous devez avoir un tel objet sous la main. \n",
    "# TODO: Mettre cette classe dans la variable label. Par exemple \"person\", \"scissors\", etc. \n",
    "# TODO: Modifier la boucle precedente pour que le drone tourne sur lui meme quand il ne detecte pas la classe choisie.\n",
    "# TODO: Quand il detecte la classe choisie, faites qu'il avance de 20 cm, imprime un message a l'ecran et se pose. \n",
    "# Utiliser pour ce faire la fonction detected(predictions, label) vue dans les exemples. \n",
    "\n",
    "# EXEMPLE DE CORRECTION\n",
    "\n",
    "label = \"person\"\n",
    "\n",
    "my_drone.streamon()\n",
    "capture = VideoCapture(my_drone.video_source)\n",
    "\n",
    "my_drone.takeoff()\n",
    "my_drone.up(100)\n",
    "\n",
    "while my_drone.stream_state:\n",
    "    \n",
    "    frame = capture.read()\n",
    "    \n",
    "    if frame is None:\n",
    "        break\n",
    "    \n",
    "    # YOLO + Bounding boxes \n",
    "    \n",
    "    predictions = yolo.return_predict(frame) \n",
    "    bounding_boxes(predictions, frame)\n",
    "    \n",
    "    cv2.imshow(\"Tello Stream\", frame)\n",
    "    \n",
    "    # Controle conditionnel \n",
    "    \n",
    "    if detected(predictions, label):\n",
    "        my_drone.forward(20)\n",
    "        print(\"Found a \" + label)\n",
    "        break \n",
    "    else: \n",
    "        my_drone.cw(20)\n",
    "    \n",
    "    if cv2.waitKey(1) & 0xFF == ord(\"q\"):\n",
    "        break\n",
    "\n",
    "my_drone.land()\n",
    "        \n",
    "my_drone.streamoff()\n",
    "capture.release()\n",
    "cv2.destroyAllWindows()  \n"
   ]
  }
 ],
 "metadata": {
  "kernelspec": {
   "display_name": "Python 3",
   "language": "python",
   "name": "python3"
  },
  "language_info": {
   "codemirror_mode": {
    "name": "ipython",
    "version": 3
   },
   "file_extension": ".py",
   "mimetype": "text/x-python",
   "name": "python",
   "nbconvert_exporter": "python",
   "pygments_lexer": "ipython3",
   "version": "3.6.9"
  }
 },
 "nbformat": 4,
 "nbformat_minor": 4
}
