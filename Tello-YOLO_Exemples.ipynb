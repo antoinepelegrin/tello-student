{
 "cells": [
  {
   "cell_type": "markdown",
   "metadata": {},
   "source": [
    "**INITIALISATION** "
   ]
  },
  {
   "cell_type": "code",
   "execution_count": 2,
   "metadata": {},
   "outputs": [
    {
     "name": "stdout",
     "output_type": "stream",
     "text": [
      "Parsing yolo/cfg/yolo-lite.cfg\n",
      "Loading yolo/weights/yolo-lite.weights ...\n",
      "Successfully identified 2597684 bytes\n",
      "Finished in 0.0019905567169189453s\n",
      "\n",
      "Building net ...\n",
      "Source | Train? | Layer description                | Output size\n",
      "-------+--------+----------------------------------+---------------\n",
      "       |        | input                            | (?, 224, 224, 3)\n",
      " Load  |  Yep!  | conv 3x3p1_1    leaky            | (?, 224, 224, 16)\n",
      " Load  |  Yep!  | maxp 2x2p0_2                     | (?, 112, 112, 16)\n",
      " Load  |  Yep!  | conv 3x3p1_1    leaky            | (?, 112, 112, 32)\n",
      " Load  |  Yep!  | maxp 2x2p0_2                     | (?, 56, 56, 32)\n",
      " Load  |  Yep!  | conv 3x3p1_1    leaky            | (?, 56, 56, 64)\n",
      " Load  |  Yep!  | maxp 2x2p0_2                     | (?, 28, 28, 64)\n",
      " Load  |  Yep!  | conv 3x3p1_1    leaky            | (?, 28, 28, 128)\n",
      " Load  |  Yep!  | maxp 2x2p0_2                     | (?, 14, 14, 128)\n",
      " Load  |  Yep!  | conv 3x3p1_1    leaky            | (?, 14, 14, 128)\n",
      " Load  |  Yep!  | maxp 2x2p0_2                     | (?, 7, 7, 128)\n",
      " Load  |  Yep!  | conv 3x3p1_1    leaky            | (?, 7, 7, 256)\n",
      " Load  |  Yep!  | conv 1x1p0_1    linear           | (?, 7, 7, 425)\n",
      "-------+--------+----------------------------------+---------------\n",
      "Running entirely on CPU\n",
      "Finished in 0.1321091651916504s\n",
      "\n"
     ]
    }
   ],
   "source": [
    "# Librairies \n",
    "from easytello import tello\n",
    "from darkflow.net.build import TFNet\n",
    "import cv2\n",
    "import numpy as np\n",
    "import math\n",
    "\n",
    "# Parametres du modele\n",
    "options = {\"model\" : \"yolo/cfg/yolo-lite.cfg\", \"load\": \"yolo/weights/yolo-lite.weights\", \"threshold\" : 0.26}\n",
    "# Initialisaton du modele\n",
    "yolo = TFNet(options)"
   ]
  },
  {
   "cell_type": "code",
   "execution_count": 3,
   "metadata": {},
   "outputs": [
    {
     "ename": "OSError",
     "evalue": "[Errno 98] Address already in use",
     "output_type": "error",
     "traceback": [
      "\u001b[0;31m---------------------------------------------------------------------------\u001b[0m",
      "\u001b[0;31mOSError\u001b[0m                                   Traceback (most recent call last)",
      "\u001b[0;32m<ipython-input-3-16b973504e53>\u001b[0m in \u001b[0;36m<module>\u001b[0;34m\u001b[0m\n\u001b[1;32m      1\u001b[0m \u001b[0;31m# Objet Tello()\u001b[0m\u001b[0;34m\u001b[0m\u001b[0;34m\u001b[0m\u001b[0;34m\u001b[0m\u001b[0m\n\u001b[0;32m----> 2\u001b[0;31m \u001b[0mmy_drone\u001b[0m \u001b[0;34m=\u001b[0m \u001b[0mtello\u001b[0m\u001b[0;34m.\u001b[0m\u001b[0mTello\u001b[0m\u001b[0;34m(\u001b[0m\u001b[0;34m)\u001b[0m\u001b[0;34m\u001b[0m\u001b[0;34m\u001b[0m\u001b[0m\n\u001b[0m",
      "\u001b[0;32m~/Desktop/tello-student/easytello/tello.py\u001b[0m in \u001b[0;36m__init__\u001b[0;34m(self, tello_ip, debug)\u001b[0m\n\u001b[1;32m     11\u001b[0m                 \u001b[0mself\u001b[0m\u001b[0;34m.\u001b[0m\u001b[0mlocal_port\u001b[0m \u001b[0;34m=\u001b[0m \u001b[0;36m8889\u001b[0m\u001b[0;34m\u001b[0m\u001b[0;34m\u001b[0m\u001b[0m\n\u001b[1;32m     12\u001b[0m                 \u001b[0mself\u001b[0m\u001b[0;34m.\u001b[0m\u001b[0msocket\u001b[0m \u001b[0;34m=\u001b[0m \u001b[0msocket\u001b[0m\u001b[0;34m.\u001b[0m\u001b[0msocket\u001b[0m\u001b[0;34m(\u001b[0m\u001b[0msocket\u001b[0m\u001b[0;34m.\u001b[0m\u001b[0mAF_INET\u001b[0m\u001b[0;34m,\u001b[0m \u001b[0msocket\u001b[0m\u001b[0;34m.\u001b[0m\u001b[0mSOCK_DGRAM\u001b[0m\u001b[0;34m)\u001b[0m\u001b[0;34m\u001b[0m\u001b[0;34m\u001b[0m\u001b[0m\n\u001b[0;32m---> 13\u001b[0;31m                 \u001b[0mself\u001b[0m\u001b[0;34m.\u001b[0m\u001b[0msocket\u001b[0m\u001b[0;34m.\u001b[0m\u001b[0mbind\u001b[0m\u001b[0;34m(\u001b[0m\u001b[0;34m(\u001b[0m\u001b[0mself\u001b[0m\u001b[0;34m.\u001b[0m\u001b[0mlocal_ip\u001b[0m\u001b[0;34m,\u001b[0m \u001b[0mself\u001b[0m\u001b[0;34m.\u001b[0m\u001b[0mlocal_port\u001b[0m\u001b[0;34m)\u001b[0m\u001b[0;34m)\u001b[0m\u001b[0;34m\u001b[0m\u001b[0;34m\u001b[0m\u001b[0m\n\u001b[0m\u001b[1;32m     14\u001b[0m \u001b[0;34m\u001b[0m\u001b[0m\n\u001b[1;32m     15\u001b[0m                 \u001b[0;31m# Setting Tello ip and port info\u001b[0m\u001b[0;34m\u001b[0m\u001b[0;34m\u001b[0m\u001b[0;34m\u001b[0m\u001b[0m\n",
      "\u001b[0;31mOSError\u001b[0m: [Errno 98] Address already in use"
     ]
    }
   ],
   "source": [
    "# Objet Tello() \n",
    "my_drone = tello.Tello()"
   ]
  },
  {
   "cell_type": "markdown",
   "metadata": {},
   "source": [
    "**VIDEO**"
   ]
  },
  {
   "cell_type": "code",
   "execution_count": 4,
   "metadata": {},
   "outputs": [
    {
     "name": "stdout",
     "output_type": "stream",
     "text": [
      "Sending command: command\n",
      "Connection timed out!\n",
      "Response: None\n",
      "Sending command: streamon\n",
      "Connection timed out!\n",
      "Response: None\n"
     ]
    }
   ],
   "source": [
    "# Il faut d'abord demander au drone de nous fournir son stream video grace a la fonction streamon()\n",
    "\n",
    "my_drone.streamon()"
   ]
  },
  {
   "cell_type": "code",
   "execution_count": null,
   "metadata": {},
   "outputs": [],
   "source": [
    "# Importation d'outils yolotools\n",
    "\n",
    "from yolotools import VideoCapture\n",
    "from yolotools import bounding_boxes\n",
    "from yolotools import detected\n",
    "\n",
    "# Creation de l'objet capture \n",
    "# La source du video est la variable video_source de l'objet Tello() \n",
    "\n",
    "capture = VideoCapture(my_drone.video_source)"
   ]
  },
  {
   "cell_type": "code",
   "execution_count": null,
   "metadata": {},
   "outputs": [],
   "source": [
    "# Une fois l'objet capture initialise, nous pouvons jouer le video comme dans le chapitre precedent. \n",
    "\n",
    "while drone.stream_state():\n",
    "    \n",
    "    frame = capture.read()\n",
    "    \n",
    "    if frame is None:\n",
    "        break\n",
    "    \n",
    "    cv2.imshow(\"Tello Stream\", frame)\n",
    "    \n",
    "    if cv2.waitKey(1) & 0xFF == ord(\"q\"):\n",
    "        break\n",
    "\n",
    "capture.release()\n",
    "cv2.destroyAllWindows()  "
   ]
  },
  {
   "cell_type": "markdown",
   "metadata": {},
   "source": [
    "**YOLO**"
   ]
  },
  {
   "cell_type": "code",
   "execution_count": null,
   "metadata": {},
   "outputs": [],
   "source": [
    "# Comme dans le chapitre precedent, on peut modifier la boucle pour integrer YOLO. \n",
    "\n",
    "capture = VideoCapture(my_drone.video_source)\n",
    "\n",
    "while drone.stream_state():\n",
    "    \n",
    "    frame = capture.read()\n",
    "    \n",
    "    if frame is None:\n",
    "        break\n",
    "    \n",
    "    predictions = yolo.return_predict(frame)\n",
    "    \n",
    "    bounding_boxes(predictions, frame)\n",
    "    \n",
    "    cv2.imshow(\"Tello Stream\", frame)\n",
    "    \n",
    "    if cv2.waitKey(1) & 0xFF == ord(\"q\"):\n",
    "        break\n",
    "\n",
    "capture.release()\n",
    "cv2.destroyAllWindows()  "
   ]
  },
  {
   "cell_type": "markdown",
   "metadata": {},
   "source": [
    "**YOLO POUR CONTROLE**"
   ]
  },
  {
   "cell_type": "code",
   "execution_count": 5,
   "metadata": {},
   "outputs": [
    {
     "ename": "NameError",
     "evalue": "name 'VideoCapture' is not defined",
     "output_type": "error",
     "traceback": [
      "\u001b[0;31m---------------------------------------------------------------------------\u001b[0m",
      "\u001b[0;31mNameError\u001b[0m                                 Traceback (most recent call last)",
      "\u001b[0;32m<ipython-input-5-e1085a879f0a>\u001b[0m in \u001b[0;36m<module>\u001b[0;34m\u001b[0m\n\u001b[1;32m      4\u001b[0m \u001b[0;31m# Si une personne est detectee - detected(predictions, \"person\") retourne True -, le drone fait une pirouette, affiche un message et sort de la boucle.\u001b[0m\u001b[0;34m\u001b[0m\u001b[0;34m\u001b[0m\u001b[0;34m\u001b[0m\u001b[0m\n\u001b[1;32m      5\u001b[0m \u001b[0;34m\u001b[0m\u001b[0m\n\u001b[0;32m----> 6\u001b[0;31m \u001b[0mcapture\u001b[0m \u001b[0;34m=\u001b[0m \u001b[0mVideoCapture\u001b[0m\u001b[0;34m(\u001b[0m\u001b[0mmy_drone\u001b[0m\u001b[0;34m.\u001b[0m\u001b[0mvideo_source\u001b[0m\u001b[0;34m)\u001b[0m\u001b[0;34m\u001b[0m\u001b[0;34m\u001b[0m\u001b[0m\n\u001b[0m\u001b[1;32m      7\u001b[0m \u001b[0;34m\u001b[0m\u001b[0m\n\u001b[1;32m      8\u001b[0m \u001b[0mmy_drone\u001b[0m\u001b[0;34m.\u001b[0m\u001b[0mtakeoff\u001b[0m\u001b[0;34m(\u001b[0m\u001b[0;34m)\u001b[0m\u001b[0;34m\u001b[0m\u001b[0;34m\u001b[0m\u001b[0m\n",
      "\u001b[0;31mNameError\u001b[0m: name 'VideoCapture' is not defined"
     ]
    }
   ],
   "source": [
    "# Pour l'instant, Tello ne bouge pas. \n",
    "# On peut modifier la boucle pour le controler conditionnellement au contenu de la variable \"predictions\"\n",
    "# La fontion detected(predictions, label) retourne True si un objet de la classe \"label\" est detecte dans les predictions \n",
    "# Si une personne est detectee - detected(predictions, \"person\") retourne True -, le drone fait une pirouette, affiche un message et sort de la boucle. \n",
    "\n",
    "capture = VideoCapture(my_drone.video_source)\n",
    "\n",
    "my_drone.takeoff()\n",
    "my_drone.up(\"100\")\n",
    "\n",
    "while drone.stream_state():\n",
    "    \n",
    "    frame = capture.read()\n",
    "    \n",
    "    if frame is None:\n",
    "        break\n",
    "    \n",
    "    predictions = yolo.return_predict(frame)\n",
    "    \n",
    "    bounding_boxes(predictions, frame)\n",
    "    \n",
    "    cv2.imshow(\"Tello Stream\", frame)\n",
    "    \n",
    "    # Si une \"person\" est presente dans les predictions, faire une pirouette, afficher un message a l'ecran, et sortir de la boucle. \n",
    "    \n",
    "    if detected(predictions, \"person\"):\n",
    "        my_drone.flip(\"left\")\n",
    "        print(\"Person detected!\")\n",
    "        break \n",
    "    \n",
    "    if cv2.waitKey(1) & 0xFF == ord(\"q\"):\n",
    "        break\n",
    "\n",
    "my_drone.land()\n",
    "        \n",
    "capture.release()\n",
    "cv2.destroyAllWindows()  \n",
    "\n",
    "my_drone.streamoff() "
   ]
  }
 ],
 "metadata": {
  "kernelspec": {
   "display_name": "Python 3",
   "language": "python",
   "name": "python3"
  },
  "language_info": {
   "codemirror_mode": {
    "name": "ipython",
    "version": 3
   },
   "file_extension": ".py",
   "mimetype": "text/x-python",
   "name": "python",
   "nbconvert_exporter": "python",
   "pygments_lexer": "ipython3",
   "version": "3.6.9"
  }
 },
 "nbformat": 4,
 "nbformat_minor": 4
}
