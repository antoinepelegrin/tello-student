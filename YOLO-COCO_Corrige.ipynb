{
 "cells": [
  {
   "cell_type": "markdown",
   "metadata": {},
   "source": [
    "**CREATION DU MODELE** "
   ]
  },
  {
   "cell_type": "code",
   "execution_count": 21,
   "metadata": {},
   "outputs": [
    {
     "name": "stdout",
     "output_type": "stream",
     "text": [
      "Parsing yolo/cfg/yolo-lite.cfg\n",
      "Loading yolo/weights/yolo-lite.weights ...\n",
      "Successfully identified 2597684 bytes\n",
      "Finished in 0.0018360614776611328s\n",
      "\n",
      "Building net ...\n",
      "Source | Train? | Layer description                | Output size\n",
      "-------+--------+----------------------------------+---------------\n",
      "       |        | input                            | (?, 224, 224, 3)\n",
      " Load  |  Yep!  | conv 3x3p1_1    leaky            | (?, 224, 224, 16)\n",
      " Load  |  Yep!  | maxp 2x2p0_2                     | (?, 112, 112, 16)\n",
      " Load  |  Yep!  | conv 3x3p1_1    leaky            | (?, 112, 112, 32)\n",
      " Load  |  Yep!  | maxp 2x2p0_2                     | (?, 56, 56, 32)\n",
      " Load  |  Yep!  | conv 3x3p1_1    leaky            | (?, 56, 56, 64)\n",
      " Load  |  Yep!  | maxp 2x2p0_2                     | (?, 28, 28, 64)\n",
      " Load  |  Yep!  | conv 3x3p1_1    leaky            | (?, 28, 28, 128)\n",
      " Load  |  Yep!  | maxp 2x2p0_2                     | (?, 14, 14, 128)\n",
      " Load  |  Yep!  | conv 3x3p1_1    leaky            | (?, 14, 14, 128)\n",
      " Load  |  Yep!  | maxp 2x2p0_2                     | (?, 7, 7, 128)\n",
      " Load  |  Yep!  | conv 3x3p1_1    leaky            | (?, 7, 7, 256)\n",
      " Load  |  Yep!  | conv 1x1p0_1    linear           | (?, 7, 7, 425)\n",
      "-------+--------+----------------------------------+---------------\n",
      "Running entirely on CPU\n",
      "Finished in 0.13478446006774902s\n",
      "\n"
     ]
    }
   ],
   "source": [
    "# Importation des librairies \n",
    "\n",
    "import cv2 # OpenCV\n",
    "from darkflow.net.build import TFNet # Darkflow\n",
    "\n",
    "# Specification des options du modele dans un dictionnaire\n",
    "\n",
    "options = {\"model\" : \"yolo/cfg/yolo-lite.cfg\", \"load\": \"yolo/weights/yolo-lite.weights\", \"threshold\" : 0.3}\n",
    "\n",
    "# Initialisation du modele\n",
    "# Reessayer si ca ne marche pas du premier coup. \n",
    "\n",
    "model = TFNet(options)"
   ]
  },
  {
   "cell_type": "code",
   "execution_count": 44,
   "metadata": {},
   "outputs": [],
   "source": [
    "# Importation de la fonction bouding_boxes du module yolotools.\n",
    "# La fonction bounding_boxes dessine les boites englobantes a l'ecran. \n",
    "\n",
    "from yolotools import bounding_boxes"
   ]
  },
  {
   "cell_type": "markdown",
   "metadata": {},
   "source": [
    "**IMAGE** "
   ]
  },
  {
   "cell_type": "markdown",
   "metadata": {},
   "source": [
    "**Importation et affichage**"
   ]
  },
  {
   "cell_type": "code",
   "execution_count": 28,
   "metadata": {},
   "outputs": [],
   "source": [
    "# Dans le fichier \"data\", vous trouverez les images \"sheepdog.jpg\", \"ultimate.jpg\", \"pizza.jpg\", \"plants.jpg\"  et le video \"crossing.mp4\"\n",
    "# Alors, les images sont aux adresses \"data/sheepdog.jpg\", \"data/ultimate.jpg\" etc. \n",
    "# TODO: Comme dans les exemples, mettre chaque image dans une variable\n",
    "\n",
    "# EXEMPLE DE CORRECTION \n",
    "\n",
    "sheepdog = cv2.imread(\"data/sheepdog.jpg\")\n",
    "\n",
    "ultimate = cv2.imread(\"data/ultimate.jpg\")\n",
    "\n",
    "pizza = cv2.imread(\"data/pizza.jpg\")\n",
    "\n",
    "plants = cv2.imread(\"data/plants.jpg\")"
   ]
  },
  {
   "cell_type": "code",
   "execution_count": 29,
   "metadata": {},
   "outputs": [],
   "source": [
    "# TODO: Comme dans les exemples, affichez chaque image une par une. \n",
    "\n",
    "# EXEMPLE DE CORRECTION \n",
    "\n",
    "cv2.imshow(\"sheepdog\", sheepdog)\n",
    "cv2.waitKey(0)\n",
    "cv2.destroyAllWindows()\n",
    "\n",
    "cv2.imshow(\"ultimate\", ultimate)\n",
    "cv2.waitKey(0)\n",
    "cv2.destroyAllWindows()\n",
    "\n",
    "cv2.imshow(\"pizza\", pizza)\n",
    "cv2.waitKey(0)\n",
    "cv2.destroyAllWindows()\n",
    "\n",
    "cv2.imshow(\"plants\", plants)\n",
    "cv2.waitKey(0)\n",
    "cv2.destroyAllWindows()"
   ]
  },
  {
   "cell_type": "markdown",
   "metadata": {},
   "source": [
    "**Application de YOLO**"
   ]
  },
  {
   "cell_type": "code",
   "execution_count": 30,
   "metadata": {},
   "outputs": [],
   "source": [
    "# TODO: Comme dans les exemples, utiliser model.return_predict() sur les images et mettre les resultats dans une variable \n",
    "\n",
    "# EXEMPLE DE CORRECTION\n",
    "\n",
    "sheepdog_predict = model.return_predict(sheepdog)\n",
    "\n",
    "ultimate_predict = model.return_predict(ultimate)\n",
    "\n",
    "pizza_predict = model.return_predict(pizza)\n",
    "\n",
    "plants_predict = model.return_predict(plants)"
   ]
  },
  {
   "cell_type": "code",
   "execution_count": 31,
   "metadata": {},
   "outputs": [
    {
     "name": "stdout",
     "output_type": "stream",
     "text": [
      "[{'label': 'bird', 'confidence': 0.42747003, 'topleft': {'x': 249, 'y': 58}, 'bottomright': {'x': 284, 'y': 103}}, {'label': 'sheep', 'confidence': 0.90906626, 'topleft': {'x': 145, 'y': 22}, 'bottomright': {'x': 224, 'y': 110}}, {'label': 'sheep', 'confidence': 0.8628841, 'topleft': {'x': 5, 'y': 44}, 'bottomright': {'x': 58, 'y': 129}}, {'label': 'sheep', 'confidence': 0.56567377, 'topleft': {'x': 12, 'y': 40}, 'bottomright': {'x': 120, 'y': 125}}, {'label': 'sheep', 'confidence': 0.90920955, 'topleft': {'x': 75, 'y': 37}, 'bottomright': {'x': 154, 'y': 121}}]\n",
      "[{'label': 'person', 'confidence': 0.85587096, 'topleft': {'x': 94, 'y': 31}, 'bottomright': {'x': 321, 'y': 330}}, {'label': 'person', 'confidence': 0.98159933, 'topleft': {'x': 350, 'y': 27}, 'bottomright': {'x': 570, 'y': 330}}, {'label': 'frisbee', 'confidence': 0.31172392, 'topleft': {'x': 265, 'y': 9}, 'bottomright': {'x': 372, 'y': 38}}]\n",
      "[{'label': 'person', 'confidence': 0.46993685, 'topleft': {'x': 233, 'y': 39}, 'bottomright': {'x': 283, 'y': 119}}, {'label': 'person', 'confidence': 0.6563295, 'topleft': {'x': 305, 'y': 28}, 'bottomright': {'x': 352, 'y': 122}}, {'label': 'person', 'confidence': 0.5161968, 'topleft': {'x': 361, 'y': 25}, 'bottomright': {'x': 397, 'y': 129}}, {'label': 'person', 'confidence': 0.35557783, 'topleft': {'x': 225, 'y': 75}, 'bottomright': {'x': 292, 'y': 164}}, {'label': 'person', 'confidence': 0.5502607, 'topleft': {'x': 162, 'y': 33}, 'bottomright': {'x': 352, 'y': 208}}, {'label': 'person', 'confidence': 0.4005416, 'topleft': {'x': 303, 'y': 79}, 'bottomright': {'x': 361, 'y': 160}}, {'label': 'person', 'confidence': 0.9555, 'topleft': {'x': 0, 'y': 19}, 'bottomright': {'x': 229, 'y': 329}}, {'label': 'person', 'confidence': 0.63087374, 'topleft': {'x': 164, 'y': 178}, 'bottomright': {'x': 484, 'y': 332}}, {'label': 'pizza', 'confidence': 0.8952096, 'topleft': {'x': 173, 'y': 169}, 'bottomright': {'x': 480, 'y': 289}}]\n",
      "[{'label': 'potted plant', 'confidence': 0.5109933, 'topleft': {'x': 60, 'y': 114}, 'bottomright': {'x': 262, 'y': 359}}, {'label': 'potted plant', 'confidence': 0.3455644, 'topleft': {'x': 193, 'y': 142}, 'bottomright': {'x': 479, 'y': 435}}, {'label': 'vase', 'confidence': 0.9000115, 'topleft': {'x': 48, 'y': 282}, 'bottomright': {'x': 237, 'y': 441}}, {'label': 'vase', 'confidence': 0.5074406, 'topleft': {'x': 276, 'y': 269}, 'bottomright': {'x': 388, 'y': 456}}, {'label': 'vase', 'confidence': 0.41422582, 'topleft': {'x': 418, 'y': 280}, 'bottomright': {'x': 595, 'y': 432}}]\n"
     ]
    }
   ],
   "source": [
    "# TODO: Grace a la commande print() afficher a l'ecran le contenue de ces variables. \n",
    "# Regardez si les resultats semblent correspondre a la realite \n",
    "\n",
    "# EXEMPLE DE CORRECTION\n",
    "\n",
    "print(sheepdog_predict)\n",
    "\n",
    "print(ultimate_predict)\n",
    "\n",
    "print(pizza_predict)\n",
    "\n",
    "print(plants_predict)"
   ]
  },
  {
   "cell_type": "markdown",
   "metadata": {},
   "source": [
    "**Boites englobantes**"
   ]
  },
  {
   "cell_type": "code",
   "execution_count": 46,
   "metadata": {},
   "outputs": [],
   "source": [
    "# La fonction bounding_boxes(detections, image) prend une image (image) et dessine les boites englobantes correspondantes a la sortie de YOLO (detections)\n",
    "# TODO: utiliser la fonction sur les images precedentes et leurs detections\n",
    "# TODO: Afficher les images a l'ecran comme precedemment.\n",
    "# Observez la performance de la detection. Bons labels? \n",
    "\n",
    "# EXEMPLE DE CORRECTION \n",
    "\n",
    "bounding_boxes(sheepdog_predict, sheepdog)\n",
    "\n",
    "bounding_boxes(ultimate_predict, ultimate)\n",
    "\n",
    "bounding_boxes(pizza_predict, pizza)\n",
    "\n",
    "bounding_boxes(plants_predict, plants)"
   ]
  },
  {
   "cell_type": "code",
   "execution_count": 47,
   "metadata": {},
   "outputs": [],
   "source": [
    "cv2.imshow(\"sheepdog\", sheepdog)\n",
    "cv2.waitKey(0)\n",
    "cv2.destroyAllWindows()\n",
    "\n",
    "cv2.imshow(\"ultimate\", ultimate)\n",
    "cv2.waitKey(0)\n",
    "cv2.destroyAllWindows()\n",
    "\n",
    "cv2.imshow(\"pizza\", pizza)\n",
    "cv2.waitKey(0)\n",
    "cv2.destroyAllWindows()\n",
    "\n",
    "cv2.imshow(\"plants\", plants)\n",
    "cv2.waitKey(0)\n",
    "cv2.destroyAllWindows()"
   ]
  },
  {
   "cell_type": "markdown",
   "metadata": {},
   "source": [
    "**VIDEO**"
   ]
  },
  {
   "cell_type": "markdown",
   "metadata": {},
   "source": [
    "**Capture et affichage** "
   ]
  },
  {
   "cell_type": "code",
   "execution_count": 48,
   "metadata": {},
   "outputs": [],
   "source": [
    "# TODO: Mettre le video \"crossing.mp4\" dans un objet cv2.VideoCapture() \n",
    "# TODO: Completer la boucle suivante tel que vu dans les exemples pour faire jouer le video\n",
    "# Truc: N'hesitez pas a copier/coller le code des exemples et a le modifier. C'est souvent comme ca qu'un programmeur travaille! \n",
    "\n",
    "# EXEMPLE DE CORRECTION\n",
    "\n",
    "capture = cv2.VideoCapture(\"data/crossing.mp4\")\n",
    "\n",
    "while capture.isOpened():\n",
    "    \n",
    "    ret, frame = capture.read()\n",
    "    \n",
    "    if frame is None:\n",
    "        break\n",
    "    \n",
    "    cv2.imshow(\"crossings\", frame)\n",
    "    \n",
    "    if cv2.waitKey(1) & 0xFF == ord(\"q\"):\n",
    "        break\n",
    "\n",
    "capture.release()\n",
    "cv2.destroyAllWindows()  "
   ]
  },
  {
   "cell_type": "markdown",
   "metadata": {},
   "source": [
    "**Application de YOLO**"
   ]
  },
  {
   "cell_type": "code",
   "execution_count": 49,
   "metadata": {},
   "outputs": [],
   "source": [
    "# TODO: Mettre le video \"crossing.mp4\" dans un objet cv2.VideoCapture() \n",
    "# TODO: Copier et modifier la boucle precedente ajouter YOLO et bounding_boxes() \n",
    "\n",
    "# EXEMPLE DE CORRECTION \n",
    "\n",
    "capture = cv2.VideoCapture(\"data/crossing.mp4\")\n",
    "\n",
    "while capture.isOpened():\n",
    "    \n",
    "    ret, frame = capture.read()\n",
    "    \n",
    "    if frame is None:\n",
    "        break\n",
    "        \n",
    "    predictions = model.return_predict(frame)\n",
    "    \n",
    "    bounding_boxes(predictions, frame)\n",
    "    \n",
    "    cv2.imshow(\"crossings\", frame)\n",
    "    \n",
    "    if cv2.waitKey(1) & 0xFF == ord(\"q\"):\n",
    "        break\n",
    "\n",
    "capture.release()\n",
    "cv2.destroyAllWindows()  "
   ]
  }
 ],
 "metadata": {
  "kernelspec": {
   "display_name": "Python 3",
   "language": "python",
   "name": "python3"
  },
  "language_info": {
   "codemirror_mode": {
    "name": "ipython",
    "version": 3
   },
   "file_extension": ".py",
   "mimetype": "text/x-python",
   "name": "python",
   "nbconvert_exporter": "python",
   "pygments_lexer": "ipython3",
   "version": "3.6.9"
  }
 },
 "nbformat": 4,
 "nbformat_minor": 4
}
