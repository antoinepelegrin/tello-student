{
 "cells": [
  {
   "cell_type": "markdown",
   "metadata": {},
   "source": [
    "**CREATION DU MODELE** "
   ]
  },
  {
   "cell_type": "code",
   "execution_count": null,
   "metadata": {},
   "outputs": [],
   "source": [
    "# Importation des librairies \n",
    "\n",
    "import cv2 # OpenCV\n",
    "from darkflow.net.build import TFNet # Darkflow\n",
    "\n",
    "# Specification des options du modele dans un dictionnaire\n",
    "\n",
    "options = {\"model\" : \"yolo/cfg/yolo-lite.cfg\", \"load\": \"yolo/weights/yolo-lite.weights\", \"threshold\" : 0.3}\n",
    "\n",
    "# Initialisation du modele\n",
    "# Reessayer si ca ne marche pas du premier coup. \n",
    "\n",
    "model = TFNet(options)"
   ]
  },
  {
   "cell_type": "code",
   "execution_count": 4,
   "metadata": {},
   "outputs": [],
   "source": [
    "# Importation de yolotools qui contient les fonctions:\n",
    "# bounding_boxes(prediction, image) qui dessine les boites englobantes sur l'image \n",
    "# frame(capture) qui prend une capture video et affiche et retourne le frame le plus recent.\n",
    "\n",
    "import yolotools"
   ]
  },
  {
   "cell_type": "markdown",
   "metadata": {},
   "source": [
    "**IMAGE** "
   ]
  },
  {
   "cell_type": "markdown",
   "metadata": {},
   "source": [
    "**Importation et affichage**"
   ]
  },
  {
   "cell_type": "code",
   "execution_count": null,
   "metadata": {},
   "outputs": [],
   "source": [
    "# Dans le fichier \"data\", vous trouverez les images ... et le video ...\n",
    "# TODO: Comme dans les exemples, mettre chaque image dans une variable"
   ]
  },
  {
   "cell_type": "code",
   "execution_count": null,
   "metadata": {},
   "outputs": [],
   "source": [
    "# TODO: Comme dans les exemples, affichez chaque image une par une. "
   ]
  },
  {
   "cell_type": "markdown",
   "metadata": {},
   "source": [
    "**Application de YOLO**"
   ]
  },
  {
   "cell_type": "code",
   "execution_count": null,
   "metadata": {},
   "outputs": [],
   "source": [
    "# TODO: Comme dans les exemples, utiliser model.return_predict() sur les images et mettre les resultats dans une variable "
   ]
  },
  {
   "cell_type": "code",
   "execution_count": null,
   "metadata": {},
   "outputs": [],
   "source": [
    "# TODO: Grace a la commande print() afficher a l'ecran le contenue de ces variables. \n",
    "# Regardez si les resultats semblent correspondre a la realite "
   ]
  },
  {
   "cell_type": "markdown",
   "metadata": {},
   "source": [
    "**Boites englobantes**"
   ]
  },
  {
   "cell_type": "code",
   "execution_count": null,
   "metadata": {},
   "outputs": [],
   "source": [
    "# La fonction bounding_boxes(detections, image) prend une image (image) et dessine les boites englobantes correspondantes a la sortie de YOLO (detections)\n",
    "# TODO: utiliser la fonction sur les images precedentes et leurs detections\n",
    "# TODO: Afficher les images a l'ecran comme precedemment.\n",
    "# Observez la performance de la detection. Bons labels? "
   ]
  },
  {
   "cell_type": "markdown",
   "metadata": {},
   "source": [
    "**VIDEO**"
   ]
  },
  {
   "cell_type": "markdown",
   "metadata": {},
   "source": [
    "**Capture et affichage** "
   ]
  },
  {
   "cell_type": "code",
   "execution_count": null,
   "metadata": {},
   "outputs": [],
   "source": [
    "# TODO: Mettre le video ... dans un objet cv2.VideoCapture() capture\n",
    "# TODO: Completer la boucle suivante tel que vu dans les exemples pour faire jouer le video\n",
    "# Truc: N'hesitez pas a copier/coller le code des exemples et a le modifier. C'est souvent comme ca qu'un programmeur travaille! \n",
    "\n",
    "capture = 0\n",
    "\n",
    "while capture.isOpened():\n",
    "    \n",
    "\n",
    "capture.release()\n",
    "cv2.destroyAllWindows()  "
   ]
  },
  {
   "cell_type": "markdown",
   "metadata": {},
   "source": [
    "**Application de YOLO**"
   ]
  },
  {
   "cell_type": "code",
   "execution_count": null,
   "metadata": {},
   "outputs": [],
   "source": [
    "# TODO: Mettre le video ... dans un objet cv2.VideoCapture() \n",
    "# TODO: Copier et modifier la boucle precedente ajouter YOLO et bounding_boxes() \n",
    "\n",
    "capture = 0\n",
    "\n",
    "while capture.isOpened():\n",
    "    \n",
    "\n",
    "capture.release()\n",
    "cv2.destroyAllWindows() "
   ]
  }
 ],
 "metadata": {
  "kernelspec": {
   "display_name": "Python 3",
   "language": "python",
   "name": "python3"
  },
  "language_info": {
   "codemirror_mode": {
    "name": "ipython",
    "version": 3
   },
   "file_extension": ".py",
   "mimetype": "text/x-python",
   "name": "python",
   "nbconvert_exporter": "python",
   "pygments_lexer": "ipython3",
   "version": "3.6.9"
  }
 },
 "nbformat": 4,
 "nbformat_minor": 4
}
